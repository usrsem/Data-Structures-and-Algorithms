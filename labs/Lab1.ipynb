{
 "cells": [
  {
   "cell_type": "markdown",
   "id": "fifteen-sailing",
   "metadata": {},
   "source": [
    "# Лабораторная работа №1\n",
    "## Выполнил студент группы ГРУППА ФИО"
   ]
  },
  {
   "cell_type": "markdown",
   "id": "particular-syndicate",
   "metadata": {},
   "source": [
    "### Оглавление\n",
    "1. [Задание 1](#Задание-№1)\n",
    "2. [Задание 2](#Задание-№2)\n",
    "3. [Задание 3](#Задание-№3)\n",
    "4. [Вывод](#Вывод)"
   ]
  },
  {
   "cell_type": "markdown",
   "id": "arctic-stocks",
   "metadata": {},
   "source": [
    "### Задание №1\n",
    "<i> Вызвать функцию print() и передать туда строку Hello, World! </i>"
   ]
  },
  {
   "cell_type": "code",
   "execution_count": null,
   "id": "caring-truck",
   "metadata": {
    "scrolled": true
   },
   "outputs": [],
   "source": []
  },
  {
   "cell_type": "markdown",
   "id": "maritime-conversation",
   "metadata": {},
   "source": [
    "### Задание №2\n",
    "Написать генератор случайных матриц(многомерных), который принимает\n",
    "опциональные параметры <b>m</b>, <b>n</b>, <b>min_limit</b>, <b>max_limit</b>, где <b>m</b> и <b>n</b> указывают размер\n",
    "матрицы, а <b>min_lim</b> и <b>max_lim</b> - минимальное и максимальное значение для\n",
    "генерируемого числа."
   ]
  },
  {
   "cell_type": "code",
   "execution_count": 1,
   "id": "built-contact",
   "metadata": {},
   "outputs": [],
   "source": [
    "import time\n",
    "from random import randint"
   ]
  },
  {
   "cell_type": "code",
   "execution_count": 3,
   "id": "alert-charm",
   "metadata": {},
   "outputs": [
    {
     "name": "stdout",
     "output_type": "stream",
     "text": [
      "1\n",
      "1\n",
      "1\n",
      "1\n"
     ]
    },
    {
     "data": {
      "text/plain": [
       "[[1]]"
      ]
     },
     "execution_count": 3,
     "metadata": {},
     "output_type": "execute_result"
    }
   ],
   "source": [
    "user_m = int(input())\n",
    "user_n = int(input())\n",
    "user_min_limit = int(input())\n",
    "user_max_limit = int(input())\n",
    "user_m, user_n, user_min_limit, user_max_limit\n",
    "\n",
    "\n",
    "def matrix_generator(\n",
    "        m: int = 50,\n",
    "        n: int = 50,\n",
    "        min_limit: int = -250,\n",
    "        max_limit: int = 1019) -> list[list[int]]:\n",
    "    return [\n",
    "        [randint(min_limit, max_limit) for _ in range(n)]\n",
    "        for _ in range(m)\n",
    "    ]\n",
    "    \n",
    "    \n",
    "matrix_generator(\n",
    "    user_m, user_n,\n",
    "    user_min_limit, user_max_limit\n",
    ")"
   ]
  },
  {
   "cell_type": "markdown",
   "id": "catholic-roots",
   "metadata": {},
   "source": [
    "### Задание №3\n",
    "Реализовать методы сортировки строк числовой матрицы в соответствии с\n",
    "заданием. Оценить время работы каждого алгоритма сортировки и сравнить его со\n",
    "временем стандартной функции сортировки. Испытания проводить на сгенерированных\n",
    "матрицах."
   ]
  },
  {
   "cell_type": "code",
   "execution_count": 28,
   "id": "opposed-creature",
   "metadata": {},
   "outputs": [],
   "source": [
    "import copy\n",
    "from typing import Union, Any, NamedTuple"
   ]
  },
  {
   "cell_type": "code",
   "execution_count": 29,
   "id": "cleared-anniversary",
   "metadata": {},
   "outputs": [],
   "source": [
    "# Сортировка выбором.\n",
    "# Берётся срез массива, в котором минимальный элемент переносят в самый левый угол,\n",
    "# после чего срез уменьшается и цикл повторяется.\n",
    "def selection_sort(a: list[int]) -> list[int]:\n",
    "    arr_len: int = len(a)\n",
    "\n",
    "    for i, elem in enumerate(a):\n",
    "        minimum = min(range(i, arr_len), key=a.__getitem__)\n",
    "        a[i], a[minimum] = a[minimum], elem\n",
    "\n",
    "    return a"
   ]
  },
  {
   "cell_type": "code",
   "execution_count": 30,
   "id": "roman-silly",
   "metadata": {
    "scrolled": true
   },
   "outputs": [],
   "source": [
    "# Сортировка вставкой.\n",
    "def insertion_sort(a: list[int]) -> list[int]:\n",
    "    for i in range(1, len(a)):\n",
    "        value = a[i]\n",
    "        j = i - 1\n",
    "        while j >= 0 and a[j] > value:\n",
    "            a[j+1] = a[j]\n",
    "            j -= 1\n",
    "        a[j+1] = value\n",
    "\n",
    "    return a"
   ]
  },
  {
   "cell_type": "code",
   "execution_count": 31,
   "id": "vital-implementation",
   "metadata": {},
   "outputs": [],
   "source": [
    "# Сортировка обменом. || Сортировка пузырьком.\n",
    "def bubble_sort(a: list[int]) -> list[int]:\n",
    "    changed = True\n",
    "\n",
    "    while changed:\n",
    "        changed = False\n",
    "\n",
    "        for i in range(len(a) - 1):\n",
    "            if a[i] > a[i+1]:\n",
    "                a[i], a[i+1] = a[i+1], a[i]\n",
    "                changed = True\n",
    "\n",
    "    return a"
   ]
  },
  {
   "cell_type": "code",
   "execution_count": 32,
   "id": "veterinary-glory",
   "metadata": {},
   "outputs": [],
   "source": [
    "# Сортировка Шелла.\n",
    "def shell_sort(a: list[int]) -> list[int]:\n",
    "    mid: int = len(a) // 2\n",
    "\n",
    "    while mid:\n",
    "        for i, elem in enumerate(a):\n",
    "            while i >= mid and a[i - mid] > elem:\n",
    "                a[i] = a[i - mid]\n",
    "                i -= mid\n",
    "            a[i] = elem\n",
    "\n",
    "        if mid == 2:\n",
    "            mid = 1\n",
    "        else:\n",
    "            mid //= 2\n",
    "\n",
    "    return a\n"
   ]
  },
  {
   "cell_type": "code",
   "execution_count": 33,
   "id": "correct-chaos",
   "metadata": {},
   "outputs": [],
   "source": [
    "# Быстрая сортировка.\n",
    "def quick_sort(a: list[int], p: int=0, r: Union[int, None]=None):\n",
    "    if r == None:\n",
    "        r = len(a) - 1\n",
    "\n",
    "    if p < r:\n",
    "        q = partition(a, p, r)\n",
    "        quick_sort(a, p, q-1)\n",
    "        quick_sort(a, q+1, r)\n",
    "\n",
    "    return a\n",
    "\n",
    "    \n",
    "def partition(a: list[int], p: int, r: int) -> int:\n",
    "    pivot: int = a[r]\n",
    "    i = p\n",
    "\n",
    "    for j in range(p, r):\n",
    "        if a[j] <= pivot:\n",
    "            a[i], a[j] = a[j], a[i]\n",
    "            i += 1\n",
    "\n",
    "    a[i], a[r] = a[r], a[i]\n",
    "\n",
    "    return i"
   ]
  },
  {
   "cell_type": "code",
   "execution_count": 34,
   "id": "b8455029",
   "metadata": {},
   "outputs": [],
   "source": [
    "class PriorityHeap:\n",
    "    def __init__(self) -> None:\n",
    "        self.cache: list[int] = []\n",
    "        self.size: int = 0\n",
    "        self.max_size = 32\n",
    "\n",
    "    def pop_min(self) -> Any:\n",
    "        res = self.cache[0]\n",
    "        self.size -= 1\n",
    "        self.cache[0] = self.cache[self.size]\n",
    "        self.cache.pop(self.size)\n",
    "        self.iter_heapify(0)\n",
    "        return res\n",
    "\n",
    "    def max_heap_insert(self, key: int):\n",
    "        self.cache.append(-10000000000000)\n",
    "        self.insert_key(key, self.size)\n",
    "        self.size += 1\n",
    "\n",
    "\n",
    "    def insert_key(self, value: int, i: int):\n",
    "        self.cache[i] = value\n",
    "        parent = self.parent(i)\n",
    "        while i > 0 and self.cache[parent] > self.cache[i]:\n",
    "            self.cache[parent], self.cache[i] = self.cache[i], self.cache[parent]\n",
    "            i = parent\n",
    "            parent = self.parent(i)\n",
    "\n",
    "    def parent(self, i: int) -> int:\n",
    "        res = (i >> 1) - 1\n",
    "        if res < 0:\n",
    "            return 0\n",
    "        else:\n",
    "            return res\n",
    "\n",
    "    def iter_heapify(self, i: int) -> None:\n",
    "        while True:\n",
    "            l: int = (i << 1) + 1\n",
    "            r: int = (i << 1) + 2\n",
    "            largest: int = i\n",
    "\n",
    "            if l < self.size and self.cache[l] < self.cache[largest]:\n",
    "                largest = l\n",
    "\n",
    "            if r < self.size and self.cache[r] < self.cache[largest]:\n",
    "                largest = r\n",
    "\n",
    "            if largest == i:\n",
    "                break\n",
    "            else:\n",
    "                self.cache[i], self.cache[largest] = self.cache[largest], self.cache[i]\n",
    "                i = largest"
   ]
  },
  {
   "cell_type": "code",
   "execution_count": 35,
   "id": "e0f36e24",
   "metadata": {},
   "outputs": [],
   "source": [
    "class TournamentBracket(NamedTuple):\n",
    "    winners: list[int]\n",
    "    losers: list[int]\n",
    "    heap: PriorityHeap\n",
    "    players_count: int\n",
    "    players: list[int]"
   ]
  },
  {
   "cell_type": "code",
   "execution_count": 45,
   "id": "french-czech",
   "metadata": {},
   "outputs": [],
   "source": [
    "def fill_up_heap(b: TournamentBracket) -> TournamentBracket:\n",
    "    while b.heap.size < b.heap.max_size and b.heap.size < b.players_count:\n",
    "        elem = b.players[b.heap.size]\n",
    "        if b.winners and b.winners[-1] > elem:\n",
    "            b.losers.append(elem)\n",
    "        else:\n",
    "            b.heap.max_heap_insert(b.players[b.heap.size])\n",
    "\n",
    "    return b\n",
    "\n",
    "\n",
    "def add_more_players(b: TournamentBracket) -> TournamentBracket:\n",
    "    for i in range(b.heap.size, b.players_count):\n",
    "        elem: int = b.players[i]\n",
    "\n",
    "        if b.winners and b.winners[-1] > elem:\n",
    "            b.losers.append(elem)\n",
    "        else:\n",
    "            max_elem: int = b.heap.pop_min()\n",
    "\n",
    "            if not b.winners:\n",
    "                b.winners.append(max_elem)\n",
    "            elif b.winners[-1] <= max_elem:\n",
    "                b.winners.append(max_elem)\n",
    "            else:\n",
    "                b.losers.append(max_elem)\n",
    "\n",
    "            b.heap.max_heap_insert(elem)\n",
    "\n",
    "    return b\n",
    "\n",
    "\n",
    "def get_last_players(b: TournamentBracket) -> TournamentBracket:\n",
    "    while b.heap.size > 0:\n",
    "        max_elem: int = b.heap.pop_min()\n",
    "\n",
    "        if not b.winners:\n",
    "            b.winners.append(max_elem)\n",
    "        elif b.winners[-1] <= max_elem:\n",
    "            b.winners.append(max_elem)\n",
    "        else:\n",
    "            b.losers.append(max_elem)\n",
    "\n",
    "    return b\n",
    "\n",
    "\n",
    "def find_winners_in_losers(b: TournamentBracket) -> list[int]:\n",
    "    winners2: list[int] = tournament_sort(b.losers)\n",
    "\n",
    "    i: int = 0\n",
    "    j: int = 0\n",
    "    winners1_len: int = len(b.winners)\n",
    "    winners2_len: int = len(winners2)\n",
    "\n",
    "    winners_res: list[int] = []\n",
    "\n",
    "    while i < winners1_len and j < winners2_len:\n",
    "        if b.winners[i] < winners2[j]:\n",
    "            winners_res.append(b.winners[i])\n",
    "            i += 1\n",
    "        else:\n",
    "            winners_res.append(winners2[j])\n",
    "            j += 1\n",
    "\n",
    "    while i < winners1_len:\n",
    "        winners_res.append(b.winners[i])\n",
    "        i += 1\n",
    "\n",
    "    while j < winners2_len:\n",
    "        winners_res.append(winners2[j])\n",
    "        j += 1\n",
    "\n",
    "    return winners_res"
   ]
  },
  {
   "cell_type": "code",
   "execution_count": 41,
   "id": "288fba8d",
   "metadata": {},
   "outputs": [],
   "source": [
    "def tournament_sort(a: list[int]) -> list[int]:\n",
    "    bracket: TournamentBracket = TournamentBracket(\n",
    "        [],\n",
    "        [],\n",
    "        PriorityHeap(),\n",
    "        len(a),\n",
    "        a\n",
    "    )\n",
    "\n",
    "    bracket = fill_up_heap(bracket)\n",
    "    bracket = add_more_players(bracket)\n",
    "    bracket = get_last_players(bracket)\n",
    "\n",
    "    if not bracket.losers:\n",
    "        return bracket.winners\n",
    "    else:\n",
    "        return find_winners_in_losers(bracket)"
   ]
  },
  {
   "cell_type": "code",
   "execution_count": 57,
   "id": "c87bee02",
   "metadata": {},
   "outputs": [],
   "source": [
    "def python_sort(a: list[int]) -> list[int]:\n",
    "    a.sort()\n",
    "    return a\n",
    "\n",
    "\n",
    "def main() -> None:\n",
    "    sorts_list: list[Callable] = list([\n",
    "        selection_sort,\n",
    "        insertion_sort,\n",
    "        bubble_sort,\n",
    "        shell_sort,\n",
    "        tournament_sort,\n",
    "        quick_sort,\n",
    "    ])\n",
    "\n",
    "    for sort_func in sorts_list:\n",
    "        print(f\"Testing sort: {sort_func.__name__}\")\n",
    "        custom_times: list[float] = []\n",
    "        python_times: list[float] = []\n",
    "\n",
    "        for row in matrix_generator():\n",
    "            a: list[int] = list(x for x in row)\n",
    "            a_copy: list[int] = a.copy()\n",
    "\n",
    "            custom_start_time: float = time.time()\n",
    "            undertest = sort_func(a_copy)\n",
    "            custom_end_time: float = (time.time() - custom_start_time)\n",
    "\n",
    "            python_start_time: float = time.time()\n",
    "            expected = python_sort(a)\n",
    "            python_end_time: float = (time.time() - python_start_time)\n",
    "\n",
    "            assert expected == undertest, f\"Sort {sort_func.__name__} is wrong\"\n",
    "            custom_times.append(custom_end_time)\n",
    "            python_times.append(python_end_time)\n",
    "\n",
    "        print(f\"--- custom sort: {sum(custom_times) / 50 * 1000} ms ---\")\n",
    "        print(f\"--- python sort: {sum(python_times) / 50 * 1000} ms ---\")"
   ]
  },
  {
   "cell_type": "code",
   "execution_count": 58,
   "id": "ea7b4d4d",
   "metadata": {},
   "outputs": [
    {
     "name": "stdout",
     "output_type": "stream",
     "text": [
      "Testing sort: selection_sort\n",
      "--- custom sort: 0.0917673110961914 ms ---\n",
      "--- python sort: 0.003509521484375 ms ---\n",
      "Testing sort: insertion_sort\n",
      "--- custom sort: 0.12763500213623047 ms ---\n",
      "--- python sort: 0.004734992980957031 ms ---\n",
      "Testing sort: bubble_sort\n",
      "--- custom sort: 0.3096914291381836 ms ---\n",
      "--- python sort: 0.0038337707519531246 ms ---\n",
      "Testing sort: shell_sort\n",
      "--- custom sort: 0.07265090942382812 ms ---\n",
      "--- python sort: 0.0033903121948242188 ms ---\n",
      "Testing sort: tournament_sort\n",
      "--- custom sort: 0.3055715560913086 ms ---\n",
      "--- python sort: 0.003662109375 ms ---\n",
      "Testing sort: quick_sort\n",
      "--- custom sort: 0.05950450897216797 ms ---\n",
      "--- python sort: 0.0031280517578125 ms ---\n"
     ]
    }
   ],
   "source": [
    "main()"
   ]
  },
  {
   "cell_type": "markdown",
   "id": "rental-jerusalem",
   "metadata": {},
   "source": [
    "### Вывод\n"
   ]
  },
  {
   "cell_type": "markdown",
   "id": "9d108a0a",
   "metadata": {},
   "source": [
    "## Среднее время выполнения\n",
    "\n",
    "\n",
    "| Сортировка | Время |\n",
    "-------- | ----- |\n",
    "Стандартная функция | 0.003509521484375 ms |\n",
    "Выбором | 0.003509521484375 ms |\n",
    "Вставкой | 0.12763500213623047 ms |\n",
    "Обменом | 50.3096914291381836 ms |\n",
    "Шелла | 0.07265090942382812 ms |\n",
    "Турнирная | 0.3055715560913086 ms |\n",
    "Быстрая | 0.05950450897216797 ms |\n",
    "\n",
    "\n",
    "Результаты получены при сортировке списка длиной 50 элементов в диапазоне [-250:1019]\n",
    "\n",
    "Таким образом, сортировки вставкой, обменом и турнирная получились наихудшими, наилучший результат показала сортировка выбором, которая одна из лучших для коротких списков, на следующем месте после неё стоит быстрая сортировка"
   ]
  },
  {
   "cell_type": "code",
   "execution_count": null,
   "id": "30dcb6b2",
   "metadata": {},
   "outputs": [],
   "source": []
  }
 ],
 "metadata": {
  "kernelspec": {
   "display_name": "Python 3 (ipykernel)",
   "language": "python",
   "name": "python3"
  },
  "language_info": {
   "codemirror_mode": {
    "name": "ipython",
    "version": 3
   },
   "file_extension": ".py",
   "mimetype": "text/x-python",
   "name": "python",
   "nbconvert_exporter": "python",
   "pygments_lexer": "ipython3",
   "version": "3.9.10"
  }
 },
 "nbformat": 4,
 "nbformat_minor": 5
}
