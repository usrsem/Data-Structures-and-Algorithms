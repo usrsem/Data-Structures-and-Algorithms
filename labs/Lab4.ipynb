{
 "cells": [
  {
   "cell_type": "markdown",
   "id": "fifteen-sailing",
   "metadata": {},
   "source": [
    "# Лабораторная работа №4\n",
    "## Выполнил студент группы Семёнов Андрей Владиславович БФИ2001"
   ]
  },
  {
   "cell_type": "markdown",
   "id": "26389ebe-a1dd-4460-81f5-cdc27efdf21c",
   "metadata": {},
   "source": [
    "# "
   ]
  },
  {
   "cell_type": "markdown",
   "id": "arctic-stocks",
   "metadata": {},
   "source": [
    "Реализовать следующие структуры данных:\n",
    "  \n",
    "● <b> Стек (stack): </b>  \n",
    "Операции для стека: \n",
    "<i> инициализация, проверка на пустоту, добавление нового элемента в начало, извлечение элемента из начала;  </i>  \n",
    "  \n",
    "● <b> Дек (двусторонняя очередь, deque):  </b>  \n",
    "Операции для дека: \n",
    "<i> инициализация, проверка на пустоту, добавление нового элемента в начало, добавление нового элемента в конец, извлечение элемента из начала, извлечение элемента из конца. </i>  \n",
    "  \n",
    "<i> Разработать программу обработки данных, содержащихся в заранее подготовленном txt-файле, в соответствии с заданиями, применив указанную в задании структуру данных. Результат работы программы вывести на экран и сохранить в отдельном txt-файле. </i>"
   ]
  },
  {
   "cell_type": "code",
   "execution_count": 1,
   "id": "98df64c8-9cdf-4023-aa91-f2718146f27d",
   "metadata": {},
   "outputs": [],
   "source": [
    "from __future__ import annotations\n",
    "from typing import Optional, Any\n",
    "from dataclasses import dataclass"
   ]
  },
  {
   "cell_type": "code",
   "execution_count": 2,
   "id": "cd666011-fe23-43d6-ba8a-bdbc4fb29f22",
   "metadata": {},
   "outputs": [],
   "source": [
    "@dataclass\n",
    "class Node:\n",
    "    data: Any\n",
    "    next_: Optional[Node] = None\n",
    "\n",
    "\n",
    "class Stack:\n",
    "    def __init__(self) -> None:\n",
    "        self.head: Node = Node(\"head\")\n",
    "        self.size = 0\n",
    "\n",
    "    def is_empty(self) -> bool:\n",
    "        return self.size == 0\n",
    "\n",
    "    def add(self, data: Any) -> None:\n",
    "        node: Node = Node(data)\n",
    "        node.next_ = self.head.next_\n",
    "        self.head.next_ = node\n",
    "        self.size += 1\n",
    "\n",
    "    def pop(self) -> Stack:\n",
    "        if self.is_empty():\n",
    "            raise Exception(\"Stack is empty\")\n",
    "        res = self.head.next_\n",
    "        self.head.next_ = self.head.next_.next_\n",
    "        self.size -= 1\n",
    "        return res.data\n",
    "\n",
    "    def peek(self) -> Any:\n",
    "        if self.is_empty():\n",
    "            raise Exception(\"Stack is empty\")\n",
    "        return self.head.next_.data\n",
    "    \n",
    "    def __str__(self) -> str:\n",
    "        root: Node = self.head.next_\n",
    "        res: str = \"\"\n",
    "        while root is not None:\n",
    "            res += f\"{root.data} \"\n",
    "            root = root.next_\n",
    "        return res.rstrip()\n",
    "        \n",
    "    def __repr__(self) -> str:\n",
    "        return self.__str__()"
   ]
  },
  {
   "cell_type": "code",
   "execution_count": 3,
   "id": "d2d7c042-3fc0-428a-bba0-fadbae699aad",
   "metadata": {},
   "outputs": [],
   "source": [
    "@dataclass\n",
    "class DNode:\n",
    "    data: Any\n",
    "    next_: Optional[DNode] = None\n",
    "    last_: Optional[DNode] = None\n",
    "\n",
    "\n",
    "class Deque:\n",
    "    def __init__(self) -> None:\n",
    "        self.head: DNode = DNode(\"head\")\n",
    "        self.tail: DNode = DNode(\"tail\")\n",
    "        self.size: int = 0\n",
    "\n",
    "    def is_empty(self) -> bool:\n",
    "        return self.size == 0\n",
    "\n",
    "    def add_first(self, data: Any) -> None:\n",
    "        node: DNode = DNode(data)\n",
    "        if self.is_empty():\n",
    "            node.last_ = self.head\n",
    "            node.next_ = self.tail\n",
    "            self.head.next_ = node\n",
    "            self.tail.last_ = node\n",
    "        else:\n",
    "            node.next_ = self.head.next_\n",
    "            node.last_ = self.head\n",
    "            self.head.next_ = node\n",
    "        self.size += 1\n",
    "\n",
    "    def add_last(self, data: Any) -> None:\n",
    "        node: DNode = DNode(data)\n",
    "        if self.is_empty():\n",
    "            node.last_ = self.head\n",
    "            node.next_ = self.tail\n",
    "            self.head.next_ = node\n",
    "            self.tail.last_ = node\n",
    "        else:\n",
    "            node.last_ = self.tail.last_\n",
    "            self.tail.last_.next_ = node\n",
    "            self.tail.last_ = node\n",
    "        self.size += 1\n",
    "\n",
    "    def pop_first(self) -> Any:\n",
    "        if self.is_empty():\n",
    "            raise Exception(\"Stack is empty\")\n",
    "\n",
    "        res: DNode = self.head.next_\n",
    "        self.head.next_ = self.head.next_.next_\n",
    "        self.size -= 1\n",
    "        return res.data\n",
    "\n",
    "    def pop_last(self) -> Any:\n",
    "        if self.is_empty():\n",
    "            raise Exception(\"Stack is empty\")\n",
    "\n",
    "        res: DNode = self.tail.last_\n",
    "        self.tail.last_ = self.tail.last_.last_\n",
    "        self.size -= 1\n",
    "        return res.data\n",
    "\n",
    "    def peek_last(self) -> Any:\n",
    "        if self.is_empty():\n",
    "            raise Exception(\"Stack is empty\")\n",
    "        return self.tail.last_.data\n",
    "\n",
    "    def peek_first(self) -> Any:\n",
    "        if self.is_empty():\n",
    "            raise Exception(\"Stack is empty\")\n",
    "        return self.head.next_.data\n",
    "\n",
    "    def __str__(self) -> str:\n",
    "        root: DNode = self.head.next_\n",
    "        res: str = \"\"\n",
    "        while root is not None and root.data != \"tail\":\n",
    "            res += f\"{root.data} \"\n",
    "            root = root.next_\n",
    "        return res.rstrip()\n",
    "        \n",
    "    def __repr__(self) -> str:\n",
    "        return self.__str__()"
   ]
  },
  {
   "cell_type": "code",
   "execution_count": 15,
   "id": "4054eed8-2c23-4fdb-b383-f4cf6896fe8d",
   "metadata": {},
   "outputs": [],
   "source": [
    "def write_res_to_file(func):\n",
    "    def inner(*args, **kwargs):\n",
    "        res = func(*args, **kwargs)\n",
    "        file_name = f\"./lab4_txt_files/output/{func.__name__}.txt\"\n",
    "        with open(file_name, \"w\") as f:\n",
    "            f.write(str(res))\n",
    "        return res\n",
    "    return inner"
   ]
  },
  {
   "cell_type": "code",
   "execution_count": 5,
   "id": "cd09c80c-955d-418a-a1fe-1096ba3a1ef5",
   "metadata": {},
   "outputs": [],
   "source": [
    "def read_txt(file_name: str) -> Deque:\n",
    "    res: Deque = Deque()\n",
    "    with open(\"./lab4_txt_files/input/\" + file_name, \"r\") as f:\n",
    "        for line in f.readlines():\n",
    "            res.add_last(line.replace(\"\\n\", \"\").strip())\n",
    "        print(f\"{file_name.split('.')[0]} input: {res}\")\n",
    "    return res"
   ]
  },
  {
   "cell_type": "markdown",
   "id": "5d7edb08",
   "metadata": {},
   "source": [
    "### Задание №1\n",
    "Отсортировать строки файла, содержащие названия книг, в алфавитном порядке с использованием двух деков."
   ]
  },
  {
   "cell_type": "code",
   "execution_count": 6,
   "id": "17702ade",
   "metadata": {},
   "outputs": [
    {
     "name": "stdout",
     "output_type": "stream",
     "text": [
      "task1 input: f e d c b a\n",
      "a b c d e f\n"
     ]
    }
   ],
   "source": [
    "@write_res_to_file\n",
    "def solution1() -> str:\n",
    "    inp: Deque = read_txt(\"task1.txt\")\n",
    "    tmp_deque: Deque = Deque()\n",
    "\n",
    "    while not inp.is_empty():\n",
    "        elem: str = inp.pop_last()\n",
    "\n",
    "        while not tmp_deque.is_empty() and tmp_deque.peek_last() > elem:\n",
    "            inp.add_last(tmp_deque.pop_last())\n",
    "\n",
    "        tmp_deque.add_last(elem)\n",
    "\n",
    "    return str(tmp_deque)\n",
    "\n",
    "\n",
    "print(solution1())"
   ]
  },
  {
   "cell_type": "markdown",
   "id": "49fbd2a0",
   "metadata": {},
   "source": [
    "### Задание №2\n",
    "Дек содержит последовательность символов для шифровки сообщений. Дан текстовый файл, содержащий зашифрованное сообщение. Пользуясь деком, расшифровать текст. \n",
    "Известно, что при шифровке каждый символ сообщения заменялся следующим за ним в деке по часовой стрелке через один."
   ]
  },
  {
   "cell_type": "code",
   "execution_count": 7,
   "id": "81cab7a8",
   "metadata": {},
   "outputs": [
    {
     "name": "stdout",
     "output_type": "stream",
     "text": [
      "task2_text input: 11223344\n",
      "task2_dict input: 1 2 3 4\n",
      "33441122\n"
     ]
    }
   ],
   "source": [
    "@write_res_to_file\n",
    "def solution2() -> str:\n",
    "    text: str = str(read_txt(\"task2_text.txt\"))\n",
    "    res: list[str] = [\"#\" for _ in range(len(text))]\n",
    "    dictionary: Deque = read_txt(\"task2_dict.txt\")\n",
    "    \n",
    "    for _ in range(dictionary.size):\n",
    "        l1 = dictionary.pop_first()\n",
    "        l2 = dictionary.pop_first()\n",
    "\n",
    "        for i, letter in enumerate(text):\n",
    "            if letter == str(l1):\n",
    "                res[i] = str(dictionary.peek_first())\n",
    "\n",
    "        dictionary.add_first(l2)\n",
    "        dictionary.add_last(l1)\n",
    "\n",
    "    return ''.join(res)\n",
    "\n",
    "\n",
    "print(solution2())"
   ]
  },
  {
   "cell_type": "markdown",
   "id": "c0894f47",
   "metadata": {},
   "source": [
    "### Задание №3\n",
    "Даны три стержня и n дисков различного размера. Диски можно надевать на стержни, образуя из них башни. Перенести n дисков со стержня А на стержень С, сохранив их первоначальный порядок. При переносе дисков необходимо соблюдать следующие правила:\n",
    "- на каждом шаге со стержня на стержень переносить только один диск;\n",
    "- диск нельзя помещать на диск меньшего размера;\n",
    "- для промежуточного хранения можно использовать стержень В.\n",
    "Реализовать алгоритм, используя три стека вместо стержней А, В, С. Информация о дисках хранится в исходном файле."
   ]
  },
  {
   "cell_type": "code",
   "execution_count": 8,
   "id": "9e91a9d4",
   "metadata": {},
   "outputs": [
    {
     "name": "stdout",
     "output_type": "stream",
     "text": [
      "task3 input: 9\n",
      "1 2 3 4 5 6 7 8 9\n"
     ]
    }
   ],
   "source": [
    "@write_res_to_file\n",
    "def solution3() -> Deque:\n",
    "    n: int = int(read_txt(\"task3.txt\").pop_first())\n",
    "    a, b, c = Stack(), Stack(), Stack()\n",
    "    for i in range(n, 0, -1):\n",
    "        a.add(i)\n",
    "    move(n, a, b, c)\n",
    "    return c\n",
    "\n",
    "\n",
    "def move(rings_count, a, b, c) -> None:\n",
    "    if rings_count == 1:\n",
    "        c.add(a.pop())\n",
    "        return\n",
    "\n",
    "    move(rings_count - 1, a, c, b)\n",
    "    c.add(a.pop())\n",
    "    move(rings_count - 1, b, a, c)\n",
    "   \n",
    "\n",
    "print(solution3())"
   ]
  },
  {
   "cell_type": "markdown",
   "id": "e5b0be17",
   "metadata": {},
   "source": [
    "### Задание №4\n",
    "Дан текстовый файл с программой на алгоритмическом языке. За один просмотр файла проверить баланс круглых скобок в тексте, используя стек."
   ]
  },
  {
   "cell_type": "code",
   "execution_count": 9,
   "id": "5b1df60a",
   "metadata": {},
   "outputs": [
    {
     "name": "stdout",
     "output_type": "stream",
     "text": [
      "task4 input: def main() -> None: print(\"Hello, world\")) a: list[int] = [1, 2, 3]\n",
      "False\n"
     ]
    }
   ],
   "source": [
    "@write_res_to_file\n",
    "def solution4() -> bool:\n",
    "    txt: str = str(read_txt(\"task4.txt\"))\n",
    "    s: Stack = Stack()\n",
    "\n",
    "    for i in txt:\n",
    "        if i in (\"(\", \")\"):\n",
    "            if s.is_empty() or s.peek() == i:\n",
    "                s.add(i)\n",
    "            else:\n",
    "                s.pop()\n",
    "\n",
    "    return s.is_empty()\n",
    "\n",
    "\n",
    "print(solution4())"
   ]
  },
  {
   "cell_type": "markdown",
   "id": "c44cdd6b",
   "metadata": {},
   "source": [
    "### Задание №5\n",
    "Дан текстовый файл с программой на алгоритмическом языке. За один просмотр файла проверить баланс квадратных скобок в тексте, используя дек."
   ]
  },
  {
   "cell_type": "code",
   "execution_count": 10,
   "id": "36b8f400",
   "metadata": {},
   "outputs": [
    {
     "name": "stdout",
     "output_type": "stream",
     "text": [
      "task4 input: def main() -> None: print(\"Hello, world\")) a: list[int] = [1, 2, 3]\n",
      "True\n"
     ]
    }
   ],
   "source": [
    "@write_res_to_file\n",
    "def solution5() -> bool:\n",
    "    txt: str = str(read_txt(\"task4.txt\"))\n",
    "    d: Deque = Deque()\n",
    "\n",
    "    for i in txt:\n",
    "        if i in (\"[\", \"]\"):\n",
    "            if d.is_empty() or d.peek_first() == i:\n",
    "                d.add_first(i)\n",
    "            else:\n",
    "                d.pop_first()\n",
    "\n",
    "    return d.is_empty()\n",
    "\n",
    "\n",
    "print(solution5())"
   ]
  },
  {
   "cell_type": "markdown",
   "id": "59d13dc7",
   "metadata": {},
   "source": [
    "### Задание №6\n",
    "Дан файл из символов. Используя стек, за один просмотр файла напечатать сначала все цифры, затем все буквы, и, наконец, все остальные символы, сохраняя исходный порядок в каждой группе символов."
   ]
  },
  {
   "cell_type": "code",
   "execution_count": 11,
   "id": "297e36c2",
   "metadata": {},
   "outputs": [
    {
     "name": "stdout",
     "output_type": "stream",
     "text": [
      "task6 input: AsFa214@#$3SsdfASD*&(*^13\n",
      "214313AsFaSsdfASD@#$*&(*^\n"
     ]
    }
   ],
   "source": [
    "@write_res_to_file\n",
    "def solution6() -> str:\n",
    "    letters: Stack = Stack()\n",
    "    symbols: Stack = Stack()\n",
    "\n",
    "    txt: str = str(read_txt(\"task6.txt\"))\n",
    "    res: str = \"\"\n",
    "    for i in txt:\n",
    "        if 48 <= ord(i) <= 57:\n",
    "            res += i\n",
    "        elif 97 <= ord(i) <= 122 or 65 <= ord(i) <= 90:\n",
    "            letters.add(i)\n",
    "        else:\n",
    "            symbols.add(i)\n",
    "\n",
    "    letters_res = \"\"\n",
    "    while not letters.is_empty():\n",
    "        letters_res += letters.pop()\n",
    "\n",
    "    symbols_res = \"\"\n",
    "    while not symbols.is_empty():\n",
    "        symbols_res += symbols.pop()\n",
    "\n",
    "    return res + letters_res[::-1] + symbols_res[::-1]\n",
    "\n",
    "\n",
    "print(solution6())"
   ]
  },
  {
   "cell_type": "markdown",
   "id": "973f68bd",
   "metadata": {},
   "source": [
    "### Задание №7\n",
    "Дан файл из целых чисел. Используя дек, за один просмотр файла напечатать сначала все отрицательные числа, затем все положительные числа, сохраняя исходный порядок в каждой группе."
   ]
  },
  {
   "cell_type": "code",
   "execution_count": 22,
   "id": "c56fad66",
   "metadata": {},
   "outputs": [
    {
     "name": "stdout",
     "output_type": "stream",
     "text": [
      "task7 input: 0 -1 -4 3 2 5 -6 -8 1\n",
      "-1 -4 -6 -8 0 3 2 5 1\n"
     ]
    }
   ],
   "source": [
    "@write_res_to_file\n",
    "def solution7() -> str:\n",
    "    a: str = str(read_txt(\"task7.txt\"))\n",
    "    d: Deque = Deque()\n",
    "    res = \"\"\n",
    "\n",
    "    for i in a.split():\n",
    "        if int(i) < 0:\n",
    "            res += str(int(i)) + \" \"\n",
    "        else:\n",
    "            d.add_last(int(i))\n",
    "        \n",
    "    return res + str(d)\n",
    "\n",
    "\n",
    "print(solution7())"
   ]
  },
  {
   "cell_type": "markdown",
   "id": "b9228191",
   "metadata": {},
   "source": [
    "### Задание №8\n",
    "Дан текстовый файл. Используя стек, сформировать новый текстовый файл, содержащий строки исходного файла, записанные в обратном порядке: первая строка становится последней, вторая – предпоследней и т.д."
   ]
  },
  {
   "cell_type": "code",
   "execution_count": 14,
   "id": "981fbdfe",
   "metadata": {},
   "outputs": [
    {
     "name": "stdout",
     "output_type": "stream",
     "text": [
      "task8 input: row1 row2 row3 row4 row5\n",
      "row5 row4 row3 row2 row1 \n"
     ]
    }
   ],
   "source": [
    "@write_res_to_file\n",
    "def solution8() -> str:\n",
    "    txt: str = str(read_txt(\"task8.txt\")).split()\n",
    "    s: Stack = Stack()\n",
    "    for row in txt:\n",
    "        s.add(row)\n",
    "\n",
    "    res = \"\"\n",
    "    for _ in range(len(txt)):\n",
    "        res += s.pop() + \" \"\n",
    "    return res\n",
    "\n",
    "\n",
    "print(solution8())"
   ]
  },
  {
   "cell_type": "markdown",
   "id": "rental-jerusalem",
   "metadata": {},
   "source": [
    "### Вывод\n"
   ]
  },
  {
   "cell_type": "markdown",
   "id": "0c2b8899",
   "metadata": {},
   "source": [
    "В данной лабораторной работе были написаны две колекции - Стек и Дек. Кроме этого, были решены задачи на использование данных структур данных и отработаны навыки работы с файлами в языке python"
   ]
  },
  {
   "cell_type": "code",
   "execution_count": null,
   "id": "618395ad-2aa4-4e0d-84bc-b67587a7cc97",
   "metadata": {},
   "outputs": [],
   "source": []
  }
 ],
 "metadata": {
  "kernelspec": {
   "display_name": "Python 3 (ipykernel)",
   "language": "python",
   "name": "python3"
  },
  "language_info": {
   "codemirror_mode": {
    "name": "ipython",
    "version": 3
   },
   "file_extension": ".py",
   "mimetype": "text/x-python",
   "name": "python",
   "nbconvert_exporter": "python",
   "pygments_lexer": "ipython3",
   "version": "3.10.2"
  }
 },
 "nbformat": 4,
 "nbformat_minor": 5
}
