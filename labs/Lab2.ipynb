{
 "cells": [
  {
   "cell_type": "markdown",
   "id": "b117a152",
   "metadata": {},
   "source": [
    "# Лабораторная работа №2\n",
    "## Выполнил студент группы БФИ2001 Семёнов Андрей Владиславович"
   ]
  },
  {
   "cell_type": "markdown",
   "id": "b2529a45",
   "metadata": {},
   "source": [
    "### Оглавление\n",
    "1. [Задание 1](#Задание-№1)\n",
    "2. [Задание 2](#Задание-№2)\n",
    "3. [Задание 3](#Задание-№3)"
   ]
  },
  {
   "cell_type": "markdown",
   "id": "ae544718",
   "metadata": {},
   "source": [
    "### Задание №1\n",
    "Реализовать методы поиска в соответствии с заданием. Организовать генерацию начального набора случайных данных. Для всех вариантов добавить реализацию добавления, поиска и удаления элементов. Оценить время работы каждого алгоритма поиска и сравнить его со временем работы стандартной функции поиска, используемой в выбранном языке программирования."
   ]
  },
  {
   "cell_type": "code",
   "execution_count": 1,
   "id": "49ec1568",
   "metadata": {},
   "outputs": [],
   "source": [
    "from __future__ import annotations\n",
    "from typing import Any, Generator, Optional, Union\n",
    "from random import randint\n",
    "from time import time"
   ]
  },
  {
   "cell_type": "code",
   "execution_count": 2,
   "id": "6368e180",
   "metadata": {
    "lines_to_next_cell": 1
   },
   "outputs": [],
   "source": [
    "class AbstractSearcher:\n",
    "    def __init__(self, a: list[int]) -> None:\n",
    "        self.a = a[:]\n",
    "\n",
    "    def search(self, n: int) -> int:\n",
    "        raise NotImplementedError(\"This method must be implemented\")\n",
    "\n",
    "    def put(self, n: int) -> None:\n",
    "        i: int = self.search(n)\n",
    "        self.a.insert(i, n)\n",
    "\n",
    "    def remove(self, n: int) -> int:\n",
    "        i: int = self.search(n)\n",
    "        self.a.pop(i)\n",
    "        return n\n",
    "# #### Бинарный поиск\n",
    "class BinarySearcher(AbstractSearcher):\n",
    "    def search(self, n: int) -> int:\n",
    "        l: int = 0\n",
    "        r: int = len(self.a) - 1\n",
    "        while l <= r:\n",
    "            mid = l + (r-l) // 2\n",
    "            if self.a[mid] < n:\n",
    "                l = mid + 1\n",
    "            elif self.a[mid] > n:\n",
    "                r = mid - 1\n",
    "            else:\n",
    "                return mid\n",
    "\n",
    "        raise Exception(f\"No such elem found {n}\")"
   ]
  },
  {
   "cell_type": "code",
   "execution_count": 3,
   "id": "564c3c00",
   "metadata": {},
   "outputs": [],
   "source": [
    "# #### Бинарное дерево\n",
    "class BinaryTreeSearcher(AbstractSearcher):\n",
    "    def __init__(self, a: list[int]) -> None:\n",
    "        self.a = a[:]\n",
    "        self.b = BinaryTree(self.a[0])\n",
    "        for i in a[1:]:\n",
    "            self.b.insert(BinaryTree(i))\n",
    "\n",
    "    def search(self, n: int) -> int:\n",
    "        res = self.b.search(n, self.b)\n",
    "        if res is not None:\n",
    "            return res.data\n",
    "        return -1\n",
    "\n",
    "    def put(self, n: int) -> None:\n",
    "        self.b.insert(BinaryTree(n))\n",
    "\n",
    "    def remove(self, n: int) -> int:\n",
    "        return self.b.remove(n)"
   ]
  },
  {
   "cell_type": "code",
   "execution_count": 4,
   "id": "223fb4fe",
   "metadata": {},
   "outputs": [],
   "source": [
    "class BinaryTree:\n",
    "\n",
    "    def __init__(self, data: int, parent = None) -> None:\n",
    "        self.left: Union[None, BinaryTree] = None\n",
    "        self.right: Union[None, BinaryTree] = None\n",
    "        self.parent: Union[None, BinaryTree] = parent\n",
    "        self.data: int = data\n",
    "\n",
    "    def search(self, n: int, t: Optional[BinaryTree]) -> Optional[BinaryTree]:\n",
    "        while t is not None and n != t.data:\n",
    "            if n > t.data:\n",
    "                t = t.right\n",
    "            else:\n",
    "                t = t.left\n",
    "\n",
    "        return t\n",
    "\n",
    "    def insert(self, z: BinaryTree) -> None:\n",
    "        y = None\n",
    "        x = self\n",
    "\n",
    "        while x is not None:\n",
    "            y = x\n",
    "            if z.data < x.data:\n",
    "                x = x.left\n",
    "            else:\n",
    "                x = x.right\n",
    "\n",
    "        z.parent = y\n",
    "        if y is None:\n",
    "            self = z\n",
    "        elif z.data < y.data:\n",
    "            y.left = z\n",
    "        else:\n",
    "            y.right = z\n",
    "\n",
    "    def remove(self, n: int) -> int:\n",
    "        z: Optional[BinaryTree] = self.search(n, self)\n",
    "        if z is None:\n",
    "            raise Exception(\"No such element\")\n",
    "\n",
    "        if z.left is None and z.right is not None:\n",
    "            self.transplant(z, z.right)\n",
    "        elif z.right is None and z.left is not None:\n",
    "            self.transplant(z, z.left)\n",
    "        elif z.right is not None and z.left is not None:\n",
    "            y = self.tree_minimum(z.right)\n",
    "            if y.parent != z and y.right is not None:\n",
    "                self.transplant(y, y.right)\n",
    "                y.right = z.right\n",
    "                y.right.parent = y\n",
    "\n",
    "            self.transplant(z, y)\n",
    "            y.left = z.left\n",
    "            y.left.parent = y\n",
    "\n",
    "        return -1\n",
    "\n",
    "    def transplant(self, u: BinaryTree, v: BinaryTree) -> None:\n",
    "        if u.parent is None:\n",
    "            self = v\n",
    "        elif u == u.parent.left:\n",
    "            u.parent.left = v\n",
    "        else:\n",
    "            u.parent.right = v\n",
    "\n",
    "        if v is not None:\n",
    "            v.parent = u.parent\n",
    "\n",
    "    def tree_minimum(self, t: BinaryTree) -> BinaryTree:\n",
    "        while t.left is not None:\n",
    "            t = t.left\n",
    "\n",
    "        return t\n",
    "\n",
    "    def inorder_tree_walk(self, t: Optional[BinaryTree]) -> None:\n",
    "        if t is not None:\n",
    "            self.inorder_tree_walk(t.left)\n",
    "            print(t.data)\n",
    "            self.inorder_tree_walk(t.right)"
   ]
  },
  {
   "cell_type": "code",
   "execution_count": 5,
   "id": "2d5ca6fe",
   "metadata": {
    "lines_to_next_cell": 1
   },
   "outputs": [],
   "source": [
    "# #### Метод Фибоначчи\n",
    "class FibonacciSearcher(AbstractSearcher):\n",
    "    def search(self, n: int) -> int:\n",
    "        len_a: int = len(self.a)\n",
    "        start: int = -1\n",
    "\n",
    "        f0 = 0\n",
    "        f1 = 1\n",
    "        f2 = 1\n",
    "        while(f2 < len_a):\n",
    "            f0 = f1\n",
    "            f1 = f2\n",
    "            f2 = f1 + f0\n",
    "\n",
    "\n",
    "        while(f2 > 1):\n",
    "            mid: int = min(start + f0, len_a - 1)\n",
    "\n",
    "            if n > a[mid]:\n",
    "                f2 = f1\n",
    "                f1 = f0\n",
    "                f0 = f2 - f1\n",
    "                start = mid\n",
    "\n",
    "            elif n < a[mid]:\n",
    "                f2 = f0\n",
    "                f1 = f1 - f0\n",
    "                f0 = f2 - f1\n",
    "\n",
    "            else:\n",
    "                return mid\n",
    "\n",
    "        raise Exception(f\"No such elem found {n}\")"
   ]
  },
  {
   "cell_type": "code",
   "execution_count": 6,
   "id": "4279e653",
   "metadata": {},
   "outputs": [],
   "source": [
    "# #### Интерполяционный\n",
    "class InterpolationSearcher(AbstractSearcher):\n",
    "    def search(self, n: int) -> int:\n",
    "        left: int = 0\n",
    "        right: int = len(a) - 1\n",
    "\n",
    "        while a[left] < n and a[right] > n:\n",
    "            mid: int = int(left + (n - a[left]) * (right - left) / (a[right] - a[left]))\n",
    "            if n > a[mid]:\n",
    "                left = mid + 1\n",
    "            elif n < a[mid]:\n",
    "                right = mid - 1\n",
    "            else:\n",
    "                return mid\n",
    "\n",
    "        if a[left] == n:\n",
    "            return left\n",
    "        elif a[right] == n:\n",
    "            return right\n",
    "\n",
    "        return -1"
   ]
  },
  {
   "cell_type": "code",
   "execution_count": 7,
   "id": "7a7e120c",
   "metadata": {},
   "outputs": [],
   "source": [
    "def test_searcher(a: list[int], searcher: AbstractSearcher) -> float:\n",
    "    times: list[float] = []\n",
    "\n",
    "    for elem in a:\n",
    "        start: float = time()\n",
    "        res: int = searcher.search(elem)\n",
    "        times.append(time() - start)\n",
    "        assert res != -1\n",
    "\n",
    "    return sum(times) / len(times)"
   ]
  },
  {
   "cell_type": "code",
   "execution_count": 8,
   "id": "57d554af",
   "metadata": {},
   "outputs": [],
   "source": [
    "a: list[int] = [randint(-1000, 1000) for _ in range(10 ** 4)]\n",
    "a.sort()"
   ]
  },
  {
   "cell_type": "code",
   "execution_count": 9,
   "id": "05728bba",
   "metadata": {},
   "outputs": [
    {
     "name": "stdout",
     "output_type": "stream",
     "text": [
      "Testing binary search\n",
      "Binary search tests passed, average time: 3.3317327499389647e-06 ms\n"
     ]
    }
   ],
   "source": [
    "print(\"Testing binary search\")\n",
    "binary_searcher: AbstractSearcher = BinarySearcher(a)\n",
    "binary_res: float = test_searcher(a, binary_searcher)\n",
    "print(f\"Binary search tests passed, average time: {binary_res} ms\")"
   ]
  },
  {
   "cell_type": "code",
   "execution_count": 10,
   "id": "cbc93c18",
   "metadata": {},
   "outputs": [
    {
     "name": "stdout",
     "output_type": "stream",
     "text": [
      "Testing binary tree search\n",
      "Binary tree search tests passed, average time: 3.2415390014648438e-06 ms\n"
     ]
    }
   ],
   "source": [
    "print(\"Testing binary tree search\")\n",
    "binary_tree_searcher: AbstractSearcher = BinaryTreeSearcher(a)\n",
    "binary_tree_res: float = test_searcher(a, binary_searcher)\n",
    "print(f\"Binary tree search tests passed, average time: {binary_tree_res} ms\")"
   ]
  },
  {
   "cell_type": "code",
   "execution_count": 11,
   "id": "9e6fdda2",
   "metadata": {},
   "outputs": [
    {
     "name": "stdout",
     "output_type": "stream",
     "text": [
      "Testing fibonacci search\n",
      "Fibonacci search tests passed, average time: 6.322956085205078e-06 ms\n"
     ]
    }
   ],
   "source": [
    "print(\"Testing fibonacci search\")\n",
    "fib_searcher: AbstractSearcher = FibonacciSearcher(a)\n",
    "fib_res: float = test_searcher(a, fib_searcher)\n",
    "print(f\"Fibonacci search tests passed, average time: {fib_res} ms\")"
   ]
  },
  {
   "cell_type": "code",
   "execution_count": 12,
   "id": "4457fcd2",
   "metadata": {},
   "outputs": [
    {
     "name": "stdout",
     "output_type": "stream",
     "text": [
      "Testing interpolation search\n",
      "Interpolation search tests passed, average time: 2.043747901916504e-06 ms\n"
     ]
    }
   ],
   "source": [
    "print(\"Testing interpolation search\")\n",
    "interpolation_searcher: AbstractSearcher = InterpolationSearcher(a)\n",
    "inte_res: float = test_searcher(a, interpolation_searcher)\n",
    "print(f\"Interpolation search tests passed, average time: {inte_res} ms\")"
   ]
  },
  {
   "cell_type": "markdown",
   "id": "d5256e21",
   "metadata": {},
   "source": [
    "### Задание №2\n",
    "Написать соответствующие решения для заданных методов."
   ]
  },
  {
   "cell_type": "markdown",
   "id": "a7050b58",
   "metadata": {},
   "source": [
    "#### Простое рехэширование"
   ]
  },
  {
   "cell_type": "code",
   "execution_count": 13,
   "id": "6e0dd089",
   "metadata": {},
   "outputs": [],
   "source": [
    "class HashTable:\n",
    "    def __init__(self, n: int = 5):\n",
    "        self.size = 0\n",
    "        self.slots: list[Any] = [None] * n\n",
    "        self.data: list[Any] = [None] * n\n",
    "        self.q: int = 0\n",
    "\n",
    "    def __setitem__(self, key, value) -> None:\n",
    "        hashvalue: int = self._hash(key)\n",
    "\n",
    "        if self.slots[hashvalue] is None:\n",
    "            self.slots[hashvalue] = key\n",
    "            self.data[hashvalue] = value\n",
    "\n",
    "        else:\n",
    "            if self.slots[hashvalue] == key:\n",
    "                self.data[hashvalue] = value\n",
    "            else:\n",
    "                nextslot: int = self._rehash(hashvalue)\n",
    "                self.q += 1\n",
    "\n",
    "                while self.slots[nextslot] is not None \\\n",
    "                        and self.slots[nextslot] != key:\n",
    "                    nextslot = self._rehash(nextslot)\n",
    "                    self.q += 1\n",
    "\n",
    "                if self.slots[nextslot] is None:\n",
    "                    self.slots[nextslot] = key\n",
    "                    self.data[nextslot] = value\n",
    "                else:\n",
    "                    self.data[nextslot] = value\n",
    "        self.q = 0\n",
    "\n",
    "    def __getitem__(self, key: int) -> Any:\n",
    "        startslot: int = self._hash(key)\n",
    "        position: int = startslot\n",
    "\n",
    "        while self.slots[position] is not None:\n",
    "            if self.slots[position] == key:\n",
    "                self.q = 0\n",
    "                return self.data[position]\n",
    "            else:\n",
    "                position = self._rehash(position)\n",
    "                self.q += 1\n",
    "                if position == startslot:\n",
    "                    continue\n",
    "\n",
    "        self.q = 0\n",
    "        raise KeyError(f\"No key {key}\")\n",
    "\n",
    "    def _hash(self, key: int) -> int:\n",
    "        return key % len(self.slots)\n",
    "\n",
    "    def _rehash(self, oldhash: int) -> int:\n",
    "        return (oldhash + 1) % len(self.slots)"
   ]
  },
  {
   "cell_type": "markdown",
   "id": "a2ec12bf",
   "metadata": {},
   "source": [
    "#### Рехэширование с помощью псевдослучайных чисел"
   ]
  },
  {
   "cell_type": "code",
   "execution_count": 14,
   "id": "0e5309d7",
   "metadata": {
    "lines_to_next_cell": 1
   },
   "outputs": [],
   "source": [
    "class RandomHashTable(HashTable):\n",
    "    def __init__(self, n: int = 5):\n",
    "        super().__init__(n)\n",
    "        self.randints: list[int] = [randint(0, 1000) for _ in range(n)]\n",
    "\n",
    "    def _rehash(self, oldhash: int) -> int:\n",
    "        if self.q == len(self.randints):\n",
    "            self.randints.extend([randint(0, 100) for _ in range(self.q)])\n",
    "\n",
    "        newhash: int = (oldhash + self.randints[self.q]) % len(self.slots)\n",
    "        return newhash"
   ]
  },
  {
   "cell_type": "markdown",
   "id": "23aa87f1",
   "metadata": {},
   "source": [
    "#### Метод цепочек"
   ]
  },
  {
   "cell_type": "code",
   "execution_count": 15,
   "id": "37b27803",
   "metadata": {
    "lines_to_next_cell": 1
   },
   "outputs": [],
   "source": [
    "class ListNode:\n",
    "    def __init__(self, key, val):\n",
    "        self.pair = (key, val)\n",
    "        self.next: Union[None, ListNode] = None"
   ]
  },
  {
   "cell_type": "code",
   "execution_count": 16,
   "id": "f0e7b22b",
   "metadata": {},
   "outputs": [],
   "source": [
    "class ChainedHashTable:\n",
    "\n",
    "    def __init__(self):\n",
    "        self.m = 1000;\n",
    "        self.h: list[Union[None, ListNode]] = [None]*self.m\n",
    "\n",
    "    def __setitem__(self, key, value):\n",
    "        index = self._hash(key)\n",
    "\n",
    "        cur = self.h[index]\n",
    "        if cur is None:\n",
    "            self.h[index] = ListNode(key, value)\n",
    "\n",
    "        else:\n",
    "            while True:\n",
    "                if cur.pair[0] == key:\n",
    "                    cur.pair = (key, value)\n",
    "                    return\n",
    "\n",
    "                if cur.next == None: break\n",
    "                cur = cur.next\n",
    "\n",
    "            cur.next = ListNode(key, value)\n",
    "\n",
    "    def __getitem__(self, key):\n",
    "        index = self._hash(key)\n",
    "        cur = self.h[index]\n",
    "\n",
    "        while cur:\n",
    "            if cur.pair[0] == key:\n",
    "                return cur.pair[1]\n",
    "            else:\n",
    "                cur = cur.next\n",
    "        raise KeyError(f\"No such key: {key}\")\n",
    "\n",
    "    def _hash(self, key) -> int:\n",
    "        return key % self.m"
   ]
  },
  {
   "cell_type": "code",
   "execution_count": 17,
   "id": "756fd09b",
   "metadata": {
    "lines_to_next_cell": 1
   },
   "outputs": [],
   "source": [
    "def test_hashing(hashable) -> None:\n",
    "    tests_dict: dict[int, str] = dict({\n",
    "        54: \"cat\",\n",
    "        26: \"dog\",\n",
    "        44: \"lion\",\n",
    "        15: \"tiger\",\n",
    "        20: \"duck\"\n",
    "    })\n",
    "\n",
    "    for k, v in tests_dict.items():\n",
    "        hashable[k] = v\n",
    "\n",
    "    for k, v in tests_dict.items():\n",
    "        assert hashable[k] == v"
   ]
  },
  {
   "cell_type": "code",
   "execution_count": 18,
   "id": "32189b6a",
   "metadata": {},
   "outputs": [
    {
     "name": "stdout",
     "output_type": "stream",
     "text": [
      "Testing hash table\n",
      "Hash table tests passed\n"
     ]
    }
   ],
   "source": [
    "print(\"Testing hash table\")\n",
    "test_hashing(HashTable())\n",
    "print(\"Hash table tests passed\")"
   ]
  },
  {
   "cell_type": "code",
   "execution_count": 19,
   "id": "f5dddb20",
   "metadata": {},
   "outputs": [
    {
     "name": "stdout",
     "output_type": "stream",
     "text": [
      "Testing random hash table\n",
      "Random hash table tests passed\n"
     ]
    }
   ],
   "source": [
    "print(\"Testing random hash table\")\n",
    "test_hashing(RandomHashTable())\n",
    "print(\"Random hash table tests passed\")"
   ]
  },
  {
   "cell_type": "code",
   "execution_count": 20,
   "id": "d32ecf14",
   "metadata": {},
   "outputs": [
    {
     "name": "stdout",
     "output_type": "stream",
     "text": [
      "Testing chained hash table\n",
      "Chained hash table tests passed\n"
     ]
    }
   ],
   "source": [
    "print(\"Testing chained hash table\")\n",
    "test_hashing(ChainedHashTable())\n",
    "print(\"Chained hash table tests passed\")"
   ]
  },
  {
   "cell_type": "markdown",
   "id": "5b0c1f5b",
   "metadata": {},
   "source": [
    "### Задание №3\n",
    "Расставить на стандартной 64-клеточной шахматной доске 8 ферзей так, чтобы ни один из них не находился под боем другого». Подразумевается, что ферзь бьёт все клетки, расположенные по вертикалям, горизонталям и обеим диагоналям\n",
    "Написать программу,  которая находит хотя бы один способ решения задач."
   ]
  },
  {
   "cell_type": "code",
   "execution_count": 21,
   "id": "ec5d28c0",
   "metadata": {},
   "outputs": [],
   "source": [
    "class Solution:\n",
    "    def __init__(self, board: list[list[int]]) -> None:\n",
    "        self.board = board\n",
    "        self.steps: int = 0\n",
    "\n",
    "    def search(self, col: int = 0) -> bool:\n",
    "        self.steps += 1\n",
    "\n",
    "        if col == 7:\n",
    "            return True\n",
    "\n",
    "        for row in range(8):\n",
    "            if self._can_place(row, col):\n",
    "                self.board[row][col] = 1\n",
    "\n",
    "                if self.search(col + 1):\n",
    "                    return True\n",
    "\n",
    "                self.board[row][col] = 0\n",
    "\n",
    "        return False\n",
    "\n",
    "    def _can_place(self, row: int, col: int) -> bool:\n",
    "        iter_up: Generator = (i for i in range(row+1, 8))\n",
    "        iter_down: Generator = (i for i in range(row-1, -1, -1))\n",
    "\n",
    "        for i in range(col-1, -1, -1):\n",
    "            if self.board[row][i]:\n",
    "                return False;\n",
    "\n",
    "            up = next(iter_up, None)\n",
    "            if up is not None and self.board[up][i]:\n",
    "                return False;\n",
    "\n",
    "            down = next(iter_down, None)\n",
    "            if down is not None and self.board[down][i]:\n",
    "                return False;\n",
    "\n",
    "        return True"
   ]
  },
  {
   "cell_type": "code",
   "execution_count": 22,
   "id": "bc889c90",
   "metadata": {},
   "outputs": [],
   "source": [
    "board: list[list[int]] = [\n",
    "    [0 for _ in range(8)]\n",
    "    for _ in range(8)\n",
    "]"
   ]
  },
  {
   "cell_type": "code",
   "execution_count": 23,
   "id": "078a6a2c",
   "metadata": {},
   "outputs": [],
   "source": [
    "chess = Solution(board)"
   ]
  },
  {
   "cell_type": "code",
   "execution_count": 24,
   "id": "04c8e607",
   "metadata": {},
   "outputs": [
    {
     "name": "stdout",
     "output_type": "stream",
     "text": [
      "Solution found\n",
      "[1, 0, 0, 0, 0, 0, 0, 0]\n",
      "[0, 0, 0, 0, 1, 0, 0, 0]\n",
      "[0, 1, 0, 0, 0, 0, 0, 0]\n",
      "[0, 0, 0, 0, 0, 1, 0, 0]\n",
      "[0, 0, 1, 0, 0, 0, 0, 0]\n",
      "[0, 0, 0, 0, 0, 0, 1, 0]\n",
      "[0, 0, 0, 1, 0, 0, 0, 0]\n",
      "[0, 0, 0, 0, 0, 0, 0, 0]\n"
     ]
    }
   ],
   "source": [
    "if chess.search():\n",
    "    print(\"Solution found\")\n",
    "    for row in board:\n",
    "        print(row)\n",
    "else:\n",
    "    print(\"Solution not found\")"
   ]
  },
  {
   "cell_type": "code",
   "execution_count": 25,
   "id": "0d2e0c81",
   "metadata": {},
   "outputs": [
    {
     "name": "stdout",
     "output_type": "stream",
     "text": [
      "chess.steps=11\n"
     ]
    }
   ],
   "source": [
    "print(f\"{chess.steps=}\")"
   ]
  }
 ],
 "metadata": {
  "kernelspec": {
   "display_name": "Python 3 (ipykernel)",
   "language": "python",
   "name": "python3"
  },
  "language_info": {
   "codemirror_mode": {
    "name": "ipython",
    "version": 3
   },
   "file_extension": ".py",
   "mimetype": "text/x-python",
   "name": "python",
   "nbconvert_exporter": "python",
   "pygments_lexer": "ipython3",
   "version": "3.9.10"
  }
 },
 "nbformat": 4,
 "nbformat_minor": 5
}
