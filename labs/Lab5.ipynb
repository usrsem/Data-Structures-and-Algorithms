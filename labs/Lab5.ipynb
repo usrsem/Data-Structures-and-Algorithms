{
 "cells": [
  {
   "cell_type": "markdown",
   "id": "ccb4b4fe",
   "metadata": {
    "id": "WPvB9TcMmKA6"
   },
   "source": [
    "# Лабораторная работа №5\n",
    "# Рекурсия. Фракталы."
   ]
  },
  {
   "cell_type": "markdown",
   "id": "15676069",
   "metadata": {
    "id": "96Gi_LEvmSVH"
   },
   "source": [
    "## Выполнил студент группы Семенов Андрей Владиславович БФИ2001\n",
    "***"
   ]
  },
  {
   "cell_type": "markdown",
   "id": "9199b0fd",
   "metadata": {
    "id": "4clYOyb0mbEv"
   },
   "source": [
    "### Задание:\n",
    "Реализовать генерацию заданного типа фрактала с применением рекурсивных функций.\n",
    "\n",
    "\n",
    "Добавить возможность задания глубины фрактала. \n",
    "\n",
    "\n",
    "Оценить глубину рекурсии. \n",
    "\n",
    "\n",
    "Построить таблицу зависимости времени построения от глубины фрактала."
   ]
  },
  {
   "cell_type": "markdown",
   "id": "4b6e4ac9",
   "metadata": {
    "id": "wDXHbUmMmhRL"
   },
   "source": [
    "### Список фракталов:\n",
    "\n",
    "Кривая Коха\n",
    "| Кривая Гильберта\n",
    "| Кривая Серпинского\n",
    "| Салфетка Серпинского\n",
    "| Ковер Серпинского\n",
    "| Дерево Пифагора "
   ]
  },
  {
   "cell_type": "markdown",
   "id": "34f617a3",
   "metadata": {
    "id": "Wggfn8l7nG72"
   },
   "source": [
    "### Выполнение:"
   ]
  },
  {
   "cell_type": "code",
   "execution_count": 2,
   "id": "233484a3",
   "metadata": {
    "pycharm": {
     "name": "#%%\n"
    }
   },
   "outputs": [],
   "source": [
    "from turtle import Turtle\n",
    "from math import sqrt"
   ]
  },
  {
   "cell_type": "code",
   "execution_count": 3,
   "id": "63a61890",
   "metadata": {
    "pycharm": {
     "name": "#%%\n"
    }
   },
   "outputs": [],
   "source": [
    "class KochCurve(Turtle):\n",
    "    def draw(self, depth: int, size: float = 100) -> None:\n",
    "        if depth > 0:\n",
    "            self.draw(depth-1, size/3)\n",
    "            self.left(60)\n",
    "            self.draw(depth-1, size/3)\n",
    "            self.right(120)\n",
    "            self.draw(depth-1, size/3)\n",
    "            self.left(60)\n",
    "            self.draw(depth-1, size/3)\n",
    "        else:\n",
    "            self.forward(size)"
   ]
  },
  {
   "cell_type": "code",
   "execution_count": 4,
   "id": "853fdc7b",
   "metadata": {
    "pycharm": {
     "name": "#%%\n"
    }
   },
   "outputs": [],
   "source": [
    "class HilbertCurve(Turtle):\n",
    "    def draw(self, A, parity, n) -> None:\n",
    "        if n > 0:\n",
    "            self.left(parity * 90)\n",
    "            self.draw(A, -parity, n-1)\n",
    "            self.forward(A)\n",
    "            self.right(parity * 90)\n",
    "            self.draw(A, parity, n-1)\n",
    "            self.forward(A)\n",
    "            self.draw(A, parity, n-1)\n",
    "            self.right(parity * 90)\n",
    "            self.forward(A)\n",
    "            self.draw(A, -parity, n-1)\n",
    "            self.left(parity * 90)"
   ]
  },
  {
   "cell_type": "code",
   "execution_count": 5,
   "id": "85b65418",
   "metadata": {
    "pycharm": {
     "name": "#%%\n"
    }
   },
   "outputs": [],
   "source": [
    "class SerpinksiCurve(Turtle):\n",
    "    def draw(self, depth: int, size: float = 20) -> None:\n",
    "        self.draw_half(depth, size)\n",
    "        self.right(90)\n",
    "        self.forward(size)\n",
    "        self.right(90)\n",
    "\n",
    "        self.draw_half(depth, size)\n",
    "        self.right(90)\n",
    "        self.forward(size)\n",
    "        self.right(90)\n",
    "\n",
    "        self.draw_half(depth, size)\n",
    "        self.right(90)\n",
    "        self.forward(size)\n",
    "        self.right(90)\n",
    "\n",
    "    def draw_half(self, depth, size) -> None:\n",
    "        if depth > 0:\n",
    "            self.draw_half(depth-1, size)\n",
    "            self.left(45)\n",
    "            self.forward(size * sqrt(2))\n",
    "            self.left(45)\n",
    "\n",
    "            self.draw_half(depth-1, size)\n",
    "            self.right(90)\n",
    "            self.forward(size)\n",
    "            self.right(90)\n",
    "\n",
    "            self.draw_half(depth-1, size)\n",
    "            self.left(45)\n",
    "            self.forward(size * sqrt(2))\n",
    "            self.left(45)\n",
    "\n",
    "            self.draw_half(depth-1, size)"
   ]
  },
  {
   "cell_type": "code",
   "execution_count": 6,
   "id": "2c8b81ae",
   "metadata": {
    "pycharm": {
     "name": "#%%\n"
    }
   },
   "outputs": [],
   "source": [
    "class SerpinskiSquare(Turtle):\n",
    "    def draw(self, depth: int, size: float = 400) -> None:\n",
    "        if depth == 0:\n",
    "            self.color('black')\n",
    "            self.begin_fill()\n",
    "            for _ in range(4):\n",
    "                self.forward(size)\n",
    "                self.left(90)\n",
    "            self.end_fill()\n",
    "        else:\n",
    "            for _ in range(4):\n",
    "                self.draw(depth - 1, size / 3)\n",
    "                self.forward(size / 3)\n",
    "\n",
    "                self.draw(depth - 1, size / 3)\n",
    "                self.forward(size / 3)\n",
    "\n",
    "                self.forward(size / 3)\n",
    "                self.left(90)"
   ]
  },
  {
   "cell_type": "code",
   "execution_count": 7,
   "id": "b3d45d69",
   "metadata": {
    "pycharm": {
     "name": "#%%\n"
    }
   },
   "outputs": [],
   "source": [
    "class SerpinskiTriangle(Turtle):\n",
    "    def draw(self, depth: int, size: float = 100):\n",
    "        half = size / 2\n",
    "        if depth >= 0:\n",
    "            self.draw(depth-1, half)\n",
    "            self.forward(half)\n",
    "\n",
    "            self.draw(depth-1, half)\n",
    "            self.forward(half)\n",
    "            self.left(120)\n",
    "            self.forward(half)\n",
    "\n",
    "            self.draw(depth-1, half)\n",
    "            self.forward(half)\n",
    "            self.left(120)\n",
    "            self.forward(size)\n",
    "            self.left(120)"
   ]
  },
  {
   "cell_type": "code",
   "execution_count": 8,
   "id": "99ee0bdd",
   "metadata": {
    "pycharm": {
     "name": "#%%\n"
    }
   },
   "outputs": [],
   "source": [
    "class PifagorTree(Turtle):\n",
    "    def draw(self, depth: int, size: float = 100) -> None:\n",
    "        self.right(-90)\n",
    "        self.process(depth, size)\n",
    "\n",
    "    def process(self, depth: int, size: float = 100) -> None:\n",
    "        if depth > 0:\n",
    "            self.forward(size)\n",
    "\n",
    "            self.right(30)\n",
    "\n",
    "            self.process(depth-1, 0.8 * size)\n",
    "\n",
    "            self.left( 2 * 30 )\n",
    "\n",
    "            self.process(depth-1, 0.8 * size)\n",
    "\n",
    "            self.right(30)\n",
    "            self.forward(-size)"
   ]
  },
  {
   "cell_type": "code",
   "execution_count": 8,
   "id": "9274b5ce",
   "metadata": {
    "collapsed": false,
    "jupyter": {
     "outputs_hidden": false
    },
    "pycharm": {
     "name": "#%%\n"
    }
   },
   "outputs": [],
   "source": [
    "KochCurve().draw(3)"
   ]
  },
  {
   "cell_type": "code",
   "execution_count": null,
   "id": "bdca750f",
   "metadata": {
    "collapsed": false,
    "jupyter": {
     "outputs_hidden": false
    },
    "pycharm": {
     "name": "#%%\n"
    }
   },
   "outputs": [],
   "source": [
    "HilbertCurve().draw(10, 1, 4)"
   ]
  },
  {
   "cell_type": "code",
   "execution_count": null,
   "id": "bd506ceb",
   "metadata": {
    "collapsed": false,
    "jupyter": {
     "outputs_hidden": false
    },
    "pycharm": {
     "name": "#%%\n"
    }
   },
   "outputs": [],
   "source": [
    "SerpinksiCurve().draw(3)"
   ]
  },
  {
   "cell_type": "code",
   "execution_count": null,
   "id": "1ddee2b5",
   "metadata": {
    "collapsed": false,
    "jupyter": {
     "outputs_hidden": false
    },
    "pycharm": {
     "name": "#%%\n"
    }
   },
   "outputs": [],
   "source": [
    "SerpinskiTriangle().draw(3)"
   ]
  },
  {
   "cell_type": "code",
   "execution_count": null,
   "id": "542c21b3",
   "metadata": {
    "collapsed": false,
    "jupyter": {
     "outputs_hidden": false
    },
    "pycharm": {
     "name": "#%%\n"
    }
   },
   "outputs": [],
   "source": [
    "SerpinskiSquare().draw(3)"
   ]
  },
  {
   "cell_type": "code",
   "execution_count": 11,
   "id": "01d7a3b4",
   "metadata": {
    "collapsed": false,
    "jupyter": {
     "outputs_hidden": false
    },
    "pycharm": {
     "name": "#%%\n"
    }
   },
   "outputs": [],
   "source": [
    "PifagorTree().draw(5)"
   ]
  },
  {
   "cell_type": "markdown",
   "id": "8c8bddd1-7595-4272-9917-596252cc1b92",
   "metadata": {},
   "source": [
    "# Вывод\n",
    "\n",
    "## Глубина рекурсии\n",
    "Глубина рекурсии равна глубине фрактала во всех представленых классах. Это связано с тем, что метод вызывает себя столько раз, сколько уровней подаётся на вход.\n",
    "\n",
    "## Временная сложность\n",
    "| Название фрактала    | O(g(x))     |\n",
    "| -------------------- | ----------- |\n",
    "| Кривая Коха          | $2^n$       |\n",
    "| Кривая Гильберта     | $2^n$       |\n",
    "| Кривая Серпинского   | $2^n$       |\n",
    "| Салфетка Серпинского | $2^n$       |\n",
    "| Ковер Серпинского    | $2^n$       |\n",
    "| Дерево Пифагора      | $2^n$       |"
   ]
  },
  {
   "cell_type": "code",
   "execution_count": null,
   "id": "64903e89-bff5-4dbe-8814-44d90e94bb33",
   "metadata": {},
   "outputs": [],
   "source": []
  }
 ],
 "metadata": {
  "kernelspec": {
   "display_name": "Python 3 (ipykernel)",
   "language": "python",
   "name": "python3"
  },
  "language_info": {
   "codemirror_mode": {
    "name": "ipython",
    "version": 3
   },
   "file_extension": ".py",
   "mimetype": "text/x-python",
   "name": "python",
   "nbconvert_exporter": "python",
   "pygments_lexer": "ipython3",
   "version": "3.10.4"
  }
 },
 "nbformat": 4,
 "nbformat_minor": 5
}
