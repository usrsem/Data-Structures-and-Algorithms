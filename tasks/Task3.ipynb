{
 "cells": [
  {
   "cell_type": "markdown",
   "id": "3b517b7e",
   "metadata": {},
   "source": [
    "# Набор заданий №3\n",
    "\n",
    "### Задание 1\n",
    "В Тридевятом Царстве уже много лет как установилась конституционная монархия. В парламент Тридевятого царства входят 26 партий, обозначаемых строчными буквами английского алфавита от «a» до «z». Заседание парламента в соответствии с регламентом проходит по следующей схеме:\n",
    "- В начале заседания никаких законопроектов на повестке дня не стоит.\n",
    "- Любая партия (в том числе и та, которая внесла текущий законопроект) в любой момент времени может внести на обсуждение новый законопроект.\n",
    "- При вносе партией нового законопроекта обсуждение предыдущего приостанавливается и начинается обсуждение нового. После того, как парламентарии голосуют за новый законопроект, обсуждение законопроекта, прерванного им, продолжается.\n",
    "- Дискуссия по любому законопроекту обязана завершиться голосованием по этому законопроекту.\n",
    "- В конце заседания не должно остаться внесённых законопроектов, дискуссия по которым не завершена.\n",
    "\n",
    "Вам дана запись о событиях на сессии парламента. Каждое событие является либо внесением нового законопроекта, либо голосованием за какой-то законопроект, причём в обоих случаях известен номер партии, этот законопроект предложившей. События даны в том порядке, в котором они происходили. Проверьте, может ли данная запись о событиях соответствовать какому-либо заседанию, удовлетворяющему порядку проведения, описанному выше.\n",
    "#### Ввод\n",
    "Первая строка входных данных содержит одно целое число *K* – количество строк в записи сессии (1 ≤ *K* ≤ 1000). Каждая строка соответствует одному из двух событий:\n",
    "\n",
    "- Add *x* – партия x внесла на голосование законопроект.\n",
    "- Vote *x* – прошло голосование за документ, внесённый партией *x*.\n",
    "\n",
    "Здесь *x* – строчная буква английского алфавита от «a» до «z», задающая партию.\n",
    "#### Вывод\n",
    "Выведите «Yes», если существует корректный порядок проведения заседания, который мог привести к такой записи, и «No», если ни при каком корректном порядке проведения заседания данная запись появиться не могла."
   ]
  },
  {
   "cell_type": "code",
   "execution_count": 1,
   "id": "e818dfd9",
   "metadata": {},
   "outputs": [],
   "source": [
    "def solution1(a: list[str]) -> bool:\n",
    "    stack: list[str] = []\n",
    "\n",
    "    for i in a:\n",
    "        if i[0] == \"A\":\n",
    "            stack.append(i[-1])\n",
    "        elif not stack or stack.pop() != i[-1]:\n",
    "            return False\n",
    "\n",
    "    return not stack"
   ]
  },
  {
   "cell_type": "markdown",
   "id": "c0080033",
   "metadata": {},
   "source": [
    "### Задача 2. Правильный подмногоугольник\n",
    "\n",
    "Задан правильный *N*-угольник. Требуется выбрать наименьшее количество его вершин, которые также образуют правильный многоугольник.\n",
    "\n",
    "#### Входные данные\n",
    "\n",
    "Входные данные содержат одно целое число *N* (3 ≤ *N* ≤ 1012).\n",
    "\n",
    "#### Вывод\n",
    "\n",
    "Выведите одно число — наименьшее количество вершин заданного многоугольника, которые образуют правильный многоугольник."
   ]
  },
  {
   "cell_type": "code",
   "execution_count": 2,
   "id": "8f6479b8",
   "metadata": {},
   "outputs": [],
   "source": [
    "def solution2(n: int) -> int:\n",
    "    for i in range(3, n//2+1):\n",
    "        if n % i == 0:\n",
    "            return i\n",
    "    return n"
   ]
  },
  {
   "cell_type": "markdown",
   "id": "64a96333",
   "metadata": {},
   "source": [
    "### Задача 3.\n",
    "\n",
    "На форуме, на котором обсуждаются задачи олимпиад по информатике, ввели следующий аналог капчи. Участнику выдаётся строка из *N* десятичных цифр (без ведущих нулей). В качестве ответа требуется ввести такое основание системы счисления *B*, что в этой системе счисления выданная запись будет соответствовать составному числу (назовем его *D*), а также число *X*, большее 1 и меньшее *D*, являющееся делителем *D*.\n",
    "\n",
    "При этом *B* и *X* не должны превосходить 10^9.\n",
    "\n",
    "По заданной строке десятичных цифр найдите любую пару чисел *B* и *X*, удовлетворяющую ограничениям, или ответьте, что решения в заданных ограничениях не существует.\n",
    "\n",
    "#### Входные данные\n",
    "\n",
    "Входные данные состоят из непустой строки длиной до 3 ⋅ 106 символов, составленной из цифр от 0 до 9 и не начинающейся с 0.\n",
    "\n",
    "#### Вывод\n",
    "\n",
    "Если решение существует, выведите два числа – основание системы счисления *B* и делитель *X*, записанные в десятичной системе счисления. Оба числа должны удовлетворять ограничениям 2 ≤ *B*, *X* ≤ 10^9. Если решения не существует, выведите –1."
   ]
  },
  {
   "cell_type": "code",
   "execution_count": 3,
   "id": "479ffce8",
   "metadata": {},
   "outputs": [],
   "source": [
    "def solution3(n: str) -> tuple[int, int]:\n",
    "    if n == \"9\":\n",
    "        return (10, 3)\n",
    "\n",
    "    if int(n) in (4, 6, 8):\n",
    "        return (10, 2)\n",
    "\n",
    "    if int(n) in (1, 2, 3, 5, 7):\n",
    "        return (-1, -1)\n",
    "\n",
    "    numbers_sum: int = sum([int(i) for i in n])\n",
    "    if numbers_sum == 1:\n",
    "        return (10, 2)\n",
    "    return (numbers_sum+1, numbers_sum)"
   ]
  },
  {
   "cell_type": "markdown",
   "id": "052377c4",
   "metadata": {},
   "source": [
    "### Tests"
   ]
  },
  {
   "cell_type": "code",
   "execution_count": 4,
   "id": "b388c7e2",
   "metadata": {},
   "outputs": [],
   "source": [
    "def test_solution1() -> None:\n",
    "    print(\"Testing problem 1 solution\")\n",
    "\n",
    "    tests: dict[tuple[str, ...], bool] = dict({\n",
    "        (\"Add a\", \"Add b\", \"Vote b\", \"Vote a\"): True,\n",
    "        (\"Add a\", \"Vote a\", \"Add b\", \"Vote b\"): True,\n",
    "        (\"Add a\", \"Vote b\"): False,\n",
    "        tuple(\"Add a\"): False,\n",
    "        tuple(\"Vote a\"): False,\n",
    "        (\"Add a\", \"Add b\", \"Add c\", \"Vote a\"): False,\n",
    "        (\"Add a\", \"Add b\", \"Add c\", \"Vote c\", \"Vote b\", \"Vote a\"): True,\n",
    "    })\n",
    "\n",
    "    for before, mustbe in tests.items():\n",
    "        after: bool = solution1(list(before))\n",
    "        assert after == mustbe, f\"{before=}, {after=}, {mustbe=}\"\n",
    "\n",
    "    print(\"Problem 1 tasks passed\\n\")"
   ]
  },
  {
   "cell_type": "code",
   "execution_count": 5,
   "id": "1f6994ea",
   "metadata": {},
   "outputs": [],
   "source": [
    "def test_solution2() -> None:\n",
    "    print(\"Testing problem 2 solution\")\n",
    "\n",
    "    tests: dict[int, int] = dict({\n",
    "        3: 3,\n",
    "        4: 4,\n",
    "        5: 5,\n",
    "        6: 3,\n",
    "        7: 7,\n",
    "        8: 4,\n",
    "        9: 3,\n",
    "        10: 5,\n",
    "        11: 11,\n",
    "        12: 3,\n",
    "    })\n",
    "\n",
    "    for before, mustbe in tests.items():\n",
    "        after: int = solution2(before)\n",
    "        assert after == mustbe, f\"{before=}, {mustbe=}, {after=}\"\n",
    "\n",
    "    print(\"Problem 2 tasks passed\\n\")"
   ]
  },
  {
   "cell_type": "code",
   "execution_count": 6,
   "id": "d621a4ce",
   "metadata": {},
   "outputs": [],
   "source": [
    "def test_solution3() -> None:\n",
    "    print(\"Testing problem 3 solution\")\n",
    "\n",
    "    tests: dict[int, tuple[int, int]] = dict({\n",
    "        1: (-1, -1),\n",
    "        4: (10, 2),\n",
    "        9: (10, 3),\n",
    "        19: (11, 10)\n",
    "    })\n",
    "\n",
    "    for before, mustbe in tests.items():\n",
    "        after: tuple[int, int] = solution3(str(before))\n",
    "        assert after == mustbe, f\"{before=}, {mustbe=}, {after=}\"\n",
    "\n",
    "    print(\"Problem 3 tasks passed\\n\")"
   ]
  },
  {
   "cell_type": "code",
   "execution_count": 7,
   "id": "a7efcd37",
   "metadata": {
    "lines_to_next_cell": 2
   },
   "outputs": [
    {
     "name": "stdout",
     "output_type": "stream",
     "text": [
      "Testing problem 1 solution\n",
      "Problem 1 tasks passed\n",
      "\n",
      "Testing problem 2 solution\n",
      "Problem 2 tasks passed\n",
      "\n",
      "Testing problem 3 solution\n",
      "Problem 3 tasks passed\n",
      "\n"
     ]
    }
   ],
   "source": [
    "test_solution1()\n",
    "test_solution2()\n",
    "test_solution3()"
   ]
  }
 ],
 "metadata": {
  "kernelspec": {
   "display_name": "Python 3 (ipykernel)",
   "language": "python",
   "name": "python3"
  },
  "language_info": {
   "codemirror_mode": {
    "name": "ipython",
    "version": 3
   },
   "file_extension": ".py",
   "mimetype": "text/x-python",
   "name": "python",
   "nbconvert_exporter": "python",
   "pygments_lexer": "ipython3",
   "version": "3.9.10"
  }
 },
 "nbformat": 4,
 "nbformat_minor": 5
}
