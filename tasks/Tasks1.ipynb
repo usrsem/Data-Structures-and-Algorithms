{
 "cells": [
  {
   "cell_type": "markdown",
   "id": "244314fb",
   "metadata": {},
   "source": [
    "# Задание 1"
   ]
  },
  {
   "cell_type": "markdown",
   "id": "64630386",
   "metadata": {},
   "source": [
    "Даны две строки: `s1` и `s2` с одинаковым размером.\n",
    "\n",
    "Проверьте, может ли некоторая перестановка строки `s1` “победить” некоторую перестановку строки `s2` или наоборот.\n",
    "\n",
    "Строка x может “победить” строку y (обе имеют размер n), если `x[i] >= y[i]` (в алфавитном порядке) для всех i от 0 до n-1.\n"
   ]
  },
  {
   "cell_type": "markdown",
   "id": "cf51dab2",
   "metadata": {},
   "source": [
    "## Ввод"
   ]
  },
  {
   "cell_type": "markdown",
   "id": "d697a747",
   "metadata": {},
   "source": [
    "`abc`\n",
    "`xya`"
   ]
  },
  {
   "cell_type": "markdown",
   "id": "50b10a2e",
   "metadata": {},
   "source": [
    "## Вывод"
   ]
  },
  {
   "cell_type": "markdown",
   "id": "55442a49",
   "metadata": {},
   "source": [
    "`True`\n",
    "\n",
    "### Исполняемый код записать в ячейку ниже:"
   ]
  },
  {
   "cell_type": "code",
   "execution_count": 1,
   "id": "3b0d440a",
   "metadata": {},
   "outputs": [],
   "source": [
    "def ex1(s1: str, s2: str) -> bool:\n",
    "    l1 = list(s1)\n",
    "    l2 = list(s2)\n",
    "\n",
    "    l1.sort()\n",
    "    l2.sort()\n",
    "\n",
    "    if l1[0] <= l2[0]:\n",
    "        for i, letter in enumerate(l1[1:]):\n",
    "            if letter > l2[i+1]:\n",
    "                return False\n",
    "    else:\n",
    "        for i, letter in enumerate(l1[1:]):\n",
    "            if letter < l2[i+1]:\n",
    "                return False\n",
    "\n",
    "    return True"
   ]
  },
  {
   "cell_type": "code",
   "execution_count": 2,
   "id": "9b090da4",
   "metadata": {},
   "outputs": [
    {
     "name": "stdout",
     "output_type": "stream",
     "text": [
      "All tests passed\n"
     ]
    }
   ],
   "source": [
    "tests: tuple[tuple[tuple[str, str], bool], ...] = tuple([\n",
    "    ((\"abc\", \"xya\"), True),\n",
    "])\n",
    "for test in tests:\n",
    "    res: bool = ex1(*test[0])\n",
    "    assert res == test[1]\n",
    "print(\"All tests passed\")"
   ]
  },
  {
   "cell_type": "markdown",
   "id": "b3a969a6",
   "metadata": {},
   "source": [
    "# Задание 2"
   ]
  },
  {
   "cell_type": "markdown",
   "id": "9c1ce05d",
   "metadata": {},
   "source": [
    "Дана строка `s`, вернуть самую длинную полиндромную подстроку в `s`."
   ]
  },
  {
   "cell_type": "markdown",
   "id": "20415c0e",
   "metadata": {},
   "source": [
    "## Ввод"
   ]
  },
  {
   "cell_type": "markdown",
   "id": "e77fcb44",
   "metadata": {},
   "source": [
    "`babad`"
   ]
  },
  {
   "cell_type": "markdown",
   "id": "49996449",
   "metadata": {},
   "source": [
    "## Вывод"
   ]
  },
  {
   "cell_type": "markdown",
   "id": "75be2464",
   "metadata": {},
   "source": [
    "`aba` или `bab`"
   ]
  },
  {
   "cell_type": "markdown",
   "id": "12ef9771",
   "metadata": {},
   "source": [
    "## Исполняемый код записывать в ячейку ниже"
   ]
  },
  {
   "cell_type": "code",
   "execution_count": 5,
   "id": "3f06c4fc",
   "metadata": {},
   "outputs": [],
   "source": [
    "def ex2(s: str) -> str:\n",
    "    r, i = manacher(s)\n",
    "\n",
    "    if r == 0:\n",
    "        return \"\"\n",
    "    elif r == 1:\n",
    "        return s[i-r:i+1]\n",
    "    else:\n",
    "        return s[i-r:i+r-1]\n",
    "\n",
    "def manacher(s: str) -> tuple[int, int]:\n",
    "    s = \"^&\" + \"&\".join(s) + \"&$\"\n",
    "    n: int = len(s)\n",
    "    radiuses: list[int] = [0] * n\n",
    "    max_len: int = 0\n",
    "    max_len_index: int = 0\n",
    "    l: int = 0\n",
    "    r: int = 0\n",
    "\n",
    "    for i in range(1, n - 1):\n",
    "        radiuses[i] = max(0, min(r - i, radiuses[l + (r - i)]))\n",
    "        while s[i - radiuses[i]] == s[i + radiuses[i]]:\n",
    "            radiuses[i] += 1\n",
    "        if radiuses[i] > max_len:\n",
    "            max_len = radiuses[i]\n",
    "            max_len_index = i\n",
    "        if i + radiuses[i] > r:\n",
    "            l = i - radiuses[i]\n",
    "            r = i + radiuses[i]\n",
    "\n",
    "    return tuple((max_len // 2, max_len_index // 2))"
   ]
  },
  {
   "cell_type": "code",
   "execution_count": 6,
   "id": "82258c3d",
   "metadata": {},
   "outputs": [
    {
     "name": "stdout",
     "output_type": "stream",
     "text": [
      "All tests passed\n"
     ]
    }
   ],
   "source": [
    "tests: tuple[tuple[str, str], ...] = tuple([\n",
    "    (\"babad\", \"bab\"),\n",
    "])\n",
    "for test in tests:\n",
    "    res: bool = ex2(test[0])\n",
    "    assert res == test[1]\n",
    "print(\"All tests passed\")"
   ]
  },
  {
   "cell_type": "markdown",
   "id": "5f54b630",
   "metadata": {},
   "source": [
    "# Задание 3"
   ]
  },
  {
   "cell_type": "markdown",
   "id": "566f1d3b",
   "metadata": {},
   "source": [
    "Вернуть количество отдельных непустых подстрок текста, которые могут быть записаны как конкатенация некоторой строки с самой собой (т.е. она может быть записана, как `a + a`, где `a` - некоторая строка)."
   ]
  },
  {
   "cell_type": "markdown",
   "id": "0f734fd8",
   "metadata": {},
   "source": [
    "## Ввод"
   ]
  },
  {
   "cell_type": "markdown",
   "id": "e0be5554",
   "metadata": {},
   "source": [
    "`aabb`"
   ]
  },
  {
   "cell_type": "markdown",
   "id": "ab8eda0b",
   "metadata": {},
   "source": [
    "## Вывод"
   ]
  },
  {
   "cell_type": "markdown",
   "id": "1d716d36",
   "metadata": {},
   "source": [
    "2"
   ]
  },
  {
   "cell_type": "markdown",
   "id": "fcd91349",
   "metadata": {},
   "source": [
    "## Исполняемый код записывать в ячейку ниже"
   ]
  },
  {
   "cell_type": "code",
   "execution_count": 7,
   "id": "be07379d",
   "metadata": {},
   "outputs": [],
   "source": [
    "def ex3(s: str) -> int:\n",
    "    n: int = len(s)\n",
    "    res: set[str] = set()\n",
    "\n",
    "    for i in range(1, n):\n",
    "        for j in range(i // 2 + 1, i + 1):\n",
    "            r = i + 1 - j\n",
    "\n",
    "            left_substr = s[j-r:j]\n",
    "            right_substr = s[j:j+r]\n",
    "\n",
    "            if left_substr == right_substr:\n",
    "                res.add(right_substr)\n",
    "\n",
    "    return len(res)"
   ]
  },
  {
   "cell_type": "code",
   "execution_count": 8,
   "id": "cd95b8b1",
   "metadata": {},
   "outputs": [
    {
     "name": "stdout",
     "output_type": "stream",
     "text": [
      "All tests passed\n"
     ]
    }
   ],
   "source": [
    "tests: tuple[tuple[str, int], ...] = tuple([\n",
    "    (\"aabb\", 2),\n",
    "])\n",
    "for test in tests:\n",
    "    res: bool = ex3(test[0])\n",
    "    assert res == test[1]\n",
    "print(\"All tests passed\")"
   ]
  },
  {
   "cell_type": "code",
   "execution_count": null,
   "id": "8dec94c3",
   "metadata": {},
   "outputs": [],
   "source": []
  }
 ],
 "metadata": {
  "kernelspec": {
   "display_name": "Python 3 (ipykernel)",
   "language": "python",
   "name": "python3"
  },
  "language_info": {
   "codemirror_mode": {
    "name": "ipython",
    "version": 3
   },
   "file_extension": ".py",
   "mimetype": "text/x-python",
   "name": "python",
   "nbconvert_exporter": "python",
   "pygments_lexer": "ipython3",
   "version": "3.9.10"
  }
 },
 "nbformat": 4,
 "nbformat_minor": 5
}
