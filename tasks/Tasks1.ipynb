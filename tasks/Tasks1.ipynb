{
 "cells": [
  {
   "cell_type": "markdown",
   "id": "244314fb",
   "metadata": {},
   "source": [
    "# Задание 1"
   ]
  },
  {
   "cell_type": "markdown",
   "id": "64630386",
   "metadata": {},
   "source": [
    "Даны две строки: `s1` и `s2` с одинаковым размером.\n",
    "\n",
    "Проверьте, может ли некоторая перестановка строки `s1` “победить” некоторую перестановку строки `s2` или наоборот.\n",
    "\n",
    "Строка x может “победить” строку y (обе имеют размер n), если `x[i] >= y[i]` (в алфавитном порядке) для всех i от 0 до n-1.\n"
   ]
  },
  {
   "cell_type": "markdown",
   "id": "cf51dab2",
   "metadata": {},
   "source": [
    "## Ввод"
   ]
  },
  {
   "cell_type": "markdown",
   "id": "d697a747",
   "metadata": {},
   "source": [
    "`abc`\n",
    "`xya`"
   ]
  },
  {
   "cell_type": "markdown",
   "id": "50b10a2e",
   "metadata": {},
   "source": [
    "## Вывод"
   ]
  },
  {
   "cell_type": "markdown",
   "id": "55442a49",
   "metadata": {},
   "source": [
    "`True`\n",
    "\n",
    "### Исполняемый код записать в ячейку ниже:"
   ]
  },
  {
   "cell_type": "code",
   "execution_count": 35,
   "id": "3b0d440a",
   "metadata": {},
   "outputs": [],
   "source": [
    "def ex1(s1: str, s2: str) -> bool:\n",
    "    print(\"start\")\n",
    "    l1 = list(s1)\n",
    "    l2 = list(s2)\n",
    "    \n",
    "    l1.sort()\n",
    "    l2.sort()\n",
    "\n",
    "    print(l1, l2)\n",
    "    flag = False\n",
    "    for i, letter in enumerate(l1):\n",
    "        if letter > l2[i]:\n",
    "            flag = True\n",
    "            break\n",
    "\n",
    "    if flag:\n",
    "        for i, letter in enumerate(l1):\n",
    "            if l1[i] < l2[i]:\n",
    "                return False\n",
    "\n",
    "\n",
    "    return True"
   ]
  },
  {
   "cell_type": "code",
   "execution_count": 36,
   "id": "9b090da4",
   "metadata": {},
   "outputs": [
    {
     "name": "stdout",
     "output_type": "stream",
     "text": [
      "start\n",
      "['a', 'b', 'c'] ['a', 'x', 'y']\n",
      "test=(('abc', 'xya'), True)\n",
      "start\n",
      "['a', 'x', 'y'] ['a', 'b', 'c']\n",
      "test=(('xya', 'abc'), True)\n",
      "start\n",
      "['a', 'y', 'z'] ['b', 'c', 'd']\n",
      "test=(('ayz', 'bcd'), False)\n",
      "All tests passed\n"
     ]
    }
   ],
   "source": [
    "tests: tuple[tuple[tuple[str, str], bool], ...] = tuple([\n",
    "    ((\"abc\", \"xya\"), True),\n",
    "    ((\"xya\", \"abc\"), True),\n",
    "    ((\"ayz\", \"bcd\"), False),\n",
    "])\n",
    "for test in tests:\n",
    "    res: bool = ex1(*test[0])\n",
    "    print(f\"{test=}\")\n",
    "    assert res == test[1]\n",
    "print(\"All tests passed\")"
   ]
  },
  {
   "cell_type": "markdown",
   "id": "b3a969a6",
   "metadata": {},
   "source": [
    "# Задание 2"
   ]
  },
  {
   "cell_type": "markdown",
   "id": "9c1ce05d",
   "metadata": {},
   "source": [
    "Дана строка `s`, вернуть самую длинную полиндромную подстроку в `s`."
   ]
  },
  {
   "cell_type": "markdown",
   "id": "20415c0e",
   "metadata": {},
   "source": [
    "## Ввод"
   ]
  },
  {
   "cell_type": "markdown",
   "id": "e77fcb44",
   "metadata": {},
   "source": [
    "`babad`"
   ]
  },
  {
   "cell_type": "markdown",
   "id": "49996449",
   "metadata": {},
   "source": [
    "## Вывод"
   ]
  },
  {
   "cell_type": "markdown",
   "id": "75be2464",
   "metadata": {},
   "source": [
    "`aba` или `bab`"
   ]
  },
  {
   "cell_type": "markdown",
   "id": "12ef9771",
   "metadata": {},
   "source": [
    "## Исполняемый код записывать в ячейку ниже"
   ]
  },
  {
   "cell_type": "code",
   "execution_count": 61,
   "id": "3f06c4fc",
   "metadata": {},
   "outputs": [],
   "source": [
    "def ex2(s: str) -> str:\n",
    "    return manacher(s)\n",
    "\n",
    "def manacher(s: str) -> tuple[int, int]:\n",
    "    s = \"^&\" + \"&\".join(s) + \"&$\"\n",
    "    orig = s\n",
    "    n: int = len(s)\n",
    "    radiuses: list[int] = [0] * n\n",
    "    max_len: int = 0\n",
    "    max_len_index: int = 0\n",
    "    l: int = 0\n",
    "    r: int = 0\n",
    "    odd_pal = \"\"\n",
    "    even_pal = \"\"\n",
    "\n",
    "    for i in range(1, n - 1):\n",
    "        radiuses[i] = max(0, min(r - i, radiuses[l + (r - i)]))\n",
    "        while s[i - radiuses[i]] == s[i + radiuses[i]]:\n",
    "            radiuses[i] += 1\n",
    "        if radiuses[i] > max_len:\n",
    "            if i % 2 == 0:\n",
    "                print(1)\n",
    "                odd_pal = orig[i - radiuses[i]:i+radiuses[i]-1].replace(\"&\", \"\").replace(\"^\", \"\").replace(\"$\", \"\")\n",
    "            else:\n",
    "                print(2)\n",
    "                even_pal = orig[i - radiuses[i]+1:i+radiuses[i]].replace(\"&\", \"\").replace(\"^\", \"\").replace(\"$\", \"\")\n",
    "            max_len = radiuses[i]\n",
    "                \n",
    "        if i + radiuses[i] > r:\n",
    "            l = i - radiuses[i]\n",
    "            r = i + radiuses[i]\n",
    "\n",
    "    if len(odd_pal) > len(even_pal):\n",
    "        return odd_pal\n",
    "    else:\n",
    "        return even_pal"
   ]
  },
  {
   "cell_type": "code",
   "execution_count": 62,
   "id": "82258c3d",
   "metadata": {},
   "outputs": [
    {
     "name": "stdout",
     "output_type": "stream",
     "text": [
      "2\n",
      "1\n",
      "1\n",
      "test=('babad', 'bab'), res='^&b&a&b'\n"
     ]
    },
    {
     "ename": "AssertionError",
     "evalue": "",
     "output_type": "error",
     "traceback": [
      "\u001b[0;31m---------------------------------------------------------------------------\u001b[0m",
      "\u001b[0;31mAssertionError\u001b[0m                            Traceback (most recent call last)",
      "Input \u001b[0;32mIn [62]\u001b[0m, in \u001b[0;36m<module>\u001b[0;34m\u001b[0m\n\u001b[1;32m      6\u001b[0m     res: \u001b[38;5;28mstr\u001b[39m \u001b[38;5;241m=\u001b[39m ex2(test[\u001b[38;5;241m0\u001b[39m])\n\u001b[1;32m      7\u001b[0m     \u001b[38;5;28mprint\u001b[39m(\u001b[38;5;124mf\u001b[39m\u001b[38;5;124m\"\u001b[39m\u001b[38;5;132;01m{\u001b[39;00mtest\u001b[38;5;132;01m=}\u001b[39;00m\u001b[38;5;124m, \u001b[39m\u001b[38;5;132;01m{\u001b[39;00mres\u001b[38;5;132;01m=}\u001b[39;00m\u001b[38;5;124m\"\u001b[39m)\n\u001b[0;32m----> 8\u001b[0m     \u001b[38;5;28;01massert\u001b[39;00m res \u001b[38;5;241m==\u001b[39m test[\u001b[38;5;241m1\u001b[39m]\n\u001b[1;32m      9\u001b[0m \u001b[38;5;28mprint\u001b[39m(\u001b[38;5;124m\"\u001b[39m\u001b[38;5;124mAll tests passed\u001b[39m\u001b[38;5;124m\"\u001b[39m)\n",
      "\u001b[0;31mAssertionError\u001b[0m: "
     ]
    }
   ],
   "source": [
    "tests: tuple[tuple[str, str], ...] = tuple([\n",
    "    (\"babad\", \"bab\"),\n",
    "    (\"cbbd\", \"bb\")\n",
    "])\n",
    "for test in tests:\n",
    "    res: str = ex2(test[0])\n",
    "    print(f\"{test=}, {res=}\")\n",
    "    assert res == test[1]\n",
    "print(\"All tests passed\")"
   ]
  },
  {
   "cell_type": "markdown",
   "id": "5f54b630",
   "metadata": {},
   "source": [
    "# Задание 3"
   ]
  },
  {
   "cell_type": "markdown",
   "id": "566f1d3b",
   "metadata": {},
   "source": [
    "Вернуть количество отдельных непустых подстрок текста, которые могут быть записаны как конкатенация некоторой строки с самой собой (т.е. она может быть записана, как `a + a`, где `a` - некоторая строка)."
   ]
  },
  {
   "cell_type": "markdown",
   "id": "0f734fd8",
   "metadata": {},
   "source": [
    "## Ввод"
   ]
  },
  {
   "cell_type": "markdown",
   "id": "e0be5554",
   "metadata": {},
   "source": [
    "`aabb`"
   ]
  },
  {
   "cell_type": "markdown",
   "id": "ab8eda0b",
   "metadata": {},
   "source": [
    "## Вывод"
   ]
  },
  {
   "cell_type": "markdown",
   "id": "1d716d36",
   "metadata": {},
   "source": [
    "2"
   ]
  },
  {
   "cell_type": "markdown",
   "id": "fcd91349",
   "metadata": {},
   "source": [
    "## Исполняемый код записывать в ячейку ниже"
   ]
  },
  {
   "cell_type": "code",
   "execution_count": null,
   "id": "be07379d",
   "metadata": {},
   "outputs": [],
   "source": [
    "def ex3_0(s: str) -> int:\n",
    "    result: set[str] = set()\n",
    "    not_unique_chars_indexes: set[int] = set()\n",
    "    chars_map: dict[str, list[int]] = dict()\n",
    "\n",
    "    for i, char in enumerate(s):\n",
    "        if not char in chars_map:\n",
    "            chars_map[char] = []\n",
    "        else:\n",
    "            not_unique_chars_indexes.add(i)\n",
    "        chars_map[char].append(i)\n",
    "\n",
    "    for i in not_unique_chars_indexes:\n",
    "        char = s[i]\n",
    "        for j in (k for k in chars_map[char] if k < i):\n",
    "            radius = i - j\n",
    "\n",
    "            left_substr = s[i-radius:i]\n",
    "            right_substr = s[i:i+radius]\n",
    "\n",
    "            if left_substr == right_substr:\n",
    "                result.add(left_substr+right_substr)\n",
    "\n",
    "    return len(result)\n",
    "\n",
    "\n",
    "def ex3_1(s: str) -> int:\n",
    "    return len(set(re.findall(\"(?=(.+)\\\\1)\", s)))"
   ]
  },
  {
   "cell_type": "code",
   "execution_count": null,
   "id": "cd95b8b1",
   "metadata": {},
   "outputs": [],
   "source": [
    "tests: tuple[tuple[str, int], ...] = tuple([\n",
    "    (\"aabb\", 2),\n",
    "])\n",
    "for test in tests:\n",
    "    res: int = ex3_1(test[0])\n",
    "    assert res == test[1]\n",
    "print(\"All tests passed\")"
   ]
  },
  {
   "cell_type": "code",
   "execution_count": null,
   "id": "8dec94c3",
   "metadata": {},
   "outputs": [],
   "source": []
  }
 ],
 "metadata": {
  "kernelspec": {
   "display_name": "Python 3 (ipykernel)",
   "language": "python",
   "name": "python3"
  },
  "language_info": {
   "codemirror_mode": {
    "name": "ipython",
    "version": 3
   },
   "file_extension": ".py",
   "mimetype": "text/x-python",
   "name": "python",
   "nbconvert_exporter": "python",
   "pygments_lexer": "ipython3",
   "version": "3.9.10"
  }
 },
 "nbformat": 4,
 "nbformat_minor": 5
}
