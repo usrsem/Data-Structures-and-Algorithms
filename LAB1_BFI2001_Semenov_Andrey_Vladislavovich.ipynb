{
 "cells": [
  {
   "cell_type": "markdown",
   "id": "fd56b204",
   "metadata": {},
   "source": [
    "# Лабораторная работа №1\n",
    "## Выполнил студент группы БФИ2001"
   ]
  },
  {
   "cell_type": "markdown",
   "id": "1e8ad436",
   "metadata": {},
   "source": [
    "### Задание №1\n",
    "Hello, World!"
   ]
  },
  {
   "cell_type": "code",
   "execution_count": 1,
   "id": "4b9ed84b",
   "metadata": {},
   "outputs": [
    {
     "name": "stdout",
     "output_type": "stream",
     "text": [
      "Hello, World!\n"
     ]
    }
   ],
   "source": [
    "print(\"Hello, World!\")"
   ]
  },
  {
   "cell_type": "markdown",
   "id": "10a1f47c",
   "metadata": {},
   "source": [
    "### Задание №2\n",
    "Написать генератор случайных матриц(многомерных), который принимает\n",
    "опциональные параметры **m**, **n**, **min_limit**, **max_limit**,\n",
    "где **m** и **n** указывают размер матрицы, а **min_lim** и **max_lim** - минимальное и максимальное значение для генерируемого числа.\n",
    "\n",
    "\n",
    "По умолчанию при отсутствии параметров принимать следующие значения:\n",
    "1. **m** = 50\n",
    "1. **n** = 50\n",
    "1. **min_lim** = -250\n",
    "1. **max_lim** = 1019"
   ]
  },
  {
   "cell_type": "code",
   "execution_count": 2,
   "id": "ff278a5b",
   "metadata": {},
   "outputs": [],
   "source": [
    "from typing import Generator\n",
    "from random import randint\n",
    "\n",
    "\n",
    "def matrix_generator(\n",
    "        m: int = 50,\n",
    "        n: int = 50,\n",
    "        min_limit: int = -250,\n",
    "        max_limit: int = 1019) -> Generator:\n",
    "    for _ in range(m):\n",
    "        yield (randint(min_limit, max_limit) for _ in range(n))"
   ]
  },
  {
   "cell_type": "markdown",
   "id": "8e8fdedf",
   "metadata": {},
   "source": [
    "### Задание №3\n",
    "Реализовать методы сортировки строк числовой матрицы в соответствии с заданием. Оценить время работы каждого алгоритма сортировки и сравнить его со временем стандартной функции сортировки. Испытания проводить на сгенерированных матрицах.\n",
    "\n",
    "\n",
    "Методы:\n",
    "1. Выбором\n",
    "1. Вставкой\n",
    "1. Обменом\n",
    "1. Шелла\n",
    "1. Турнирная\n",
    "1. Быстрая\n",
    "1. Пирамидальная"
   ]
  },
  {
   "cell_type": "code",
   "execution_count": 3,
   "id": "2e409d10",
   "metadata": {},
   "outputs": [],
   "source": [
    "from typing import Any, Callable, Union"
   ]
  },
  {
   "cell_type": "code",
   "execution_count": 4,
   "id": "30ddbe6f",
   "metadata": {},
   "outputs": [
    {
     "name": "stdout",
     "output_type": "stream",
     "text": [
      "520 ns ± 15.8 ns per loop (mean ± std. dev. of 7 runs, 1000000 loops each)\n"
     ]
    }
   ],
   "source": [
    "%%timeit\n",
    "def selection_sort(a: list[int]) -> list[int]:\n",
    "    arr_len: int = len(a)\n",
    "\n",
    "    for i, elem in enumerate(a):\n",
    "        minimum = min(range(i, arr_len), key=a.__getitem__)\n",
    "        a[i], a[minimum] = a[minimum], elem\n",
    "\n",
    "    return a"
   ]
  },
  {
   "cell_type": "code",
   "execution_count": 5,
   "id": "8c3032e9",
   "metadata": {},
   "outputs": [
    {
     "name": "stdout",
     "output_type": "stream",
     "text": [
      "495 ns ± 15.2 ns per loop (mean ± std. dev. of 7 runs, 1000000 loops each)\n"
     ]
    }
   ],
   "source": [
    "%%timeit\n",
    "def insertion_sort(a: list[int]) -> list[int]:\n",
    "    for i in range(1, len(a)):\n",
    "        value = a[i]\n",
    "        j = i - 1\n",
    "        while j >= 0 and a[j] > value:\n",
    "            a[j+1] = a[j]\n",
    "            j -= 1\n",
    "        a[j+1] = value\n",
    "\n",
    "    return a"
   ]
  },
  {
   "cell_type": "code",
   "execution_count": 6,
   "id": "95ba84d3",
   "metadata": {},
   "outputs": [
    {
     "name": "stdout",
     "output_type": "stream",
     "text": [
      "1.01 µs ± 10.5 ns per loop (mean ± std. dev. of 7 runs, 1000000 loops each)\n"
     ]
    }
   ],
   "source": [
    "%%timeit\n",
    "def stooge_sort(a: list[int], i: int = 0, j: Union[int, None] = None) -> list[int]:\n",
    "    if j is None:\n",
    "        j = len(a) - 1\n",
    "\n",
    "    if a[i] > a[j]:\n",
    "        a[i], a[j] = a[j], a[i]\n",
    "\n",
    "    if j - i > 1:\n",
    "        one_third = (j - i + 1) // 3\n",
    "        stooge_sort(a, i, j - one_third)\n",
    "        stooge_sort(a, i + one_third, j)\n",
    "        stooge_sort(a, i, j - one_third)\n",
    "\n",
    "    return a"
   ]
  },
  {
   "cell_type": "code",
   "execution_count": 7,
   "id": "03fb2f41",
   "metadata": {},
   "outputs": [
    {
     "name": "stdout",
     "output_type": "stream",
     "text": [
      "496 ns ± 14.6 ns per loop (mean ± std. dev. of 7 runs, 1000000 loops each)\n"
     ]
    }
   ],
   "source": [
    "%%timeit\n",
    "def shell_sort(a: list[int]) -> list[int]:\n",
    "    mid: int = len(a) // 2\n",
    "\n",
    "    while mid:\n",
    "        for i, elem in enumerate(a):\n",
    "            while i >= mid and a[i - mid] > elem:\n",
    "                a[i] = a[i - mid]\n",
    "                i -= mid\n",
    "            a[i] = elem\n",
    "\n",
    "        if mid == 2:\n",
    "            mid = 1\n",
    "        else:\n",
    "            mid //= 2\n",
    "\n",
    "    return a"
   ]
  },
  {
   "cell_type": "code",
   "execution_count": 8,
   "id": "fbc4d47f",
   "metadata": {},
   "outputs": [
    {
     "name": "stdout",
     "output_type": "stream",
     "text": [
      "534 ns ± 12.3 ns per loop (mean ± std. dev. of 7 runs, 1000000 loops each)\n"
     ]
    }
   ],
   "source": [
    "%%timeit\n",
    "def tournament_sort(a: list[int]) -> list[int]:\n",
    "    a_len: int = len(a)\n",
    "    heap = PriorityHeap()\n",
    "    winners: list[int] = []\n",
    "    losers: list[int] = []\n",
    "\n",
    "    while heap.size < heap.max_size and heap.size < a_len:\n",
    "        elem = a[heap.size]\n",
    "        if winners and winners[-1] > elem:\n",
    "            losers.append(elem)\n",
    "        else:\n",
    "            heap.max_heap_insert(a[heap.size])\n",
    "\n",
    "    for i in range(heap.size, a_len):\n",
    "        elem: int = a[i]\n",
    "\n",
    "        if winners and winners[-1] > elem:\n",
    "            losers.append(elem)\n",
    "        else:\n",
    "            max_elem: int = heap.pop_max()\n",
    "\n",
    "            if not winners:\n",
    "                winners.append(max_elem)\n",
    "            elif winners[-1] <= max_elem:\n",
    "                winners.append(max_elem)\n",
    "            else:\n",
    "                losers.append(max_elem)\n",
    "\n",
    "            heap.max_heap_insert(elem)\n",
    "\n",
    "    while heap.size > 0:\n",
    "        max_elem: int = heap.pop_max()\n",
    "\n",
    "        if not winners:\n",
    "            winners.append(max_elem)\n",
    "        elif winners[-1] <= max_elem:\n",
    "            winners.append(max_elem)\n",
    "        else:\n",
    "            losers.append(max_elem)\n",
    "\n",
    "    if not losers:\n",
    "        return winners\n",
    "    else:\n",
    "        winners2: list[int] = tournament_sort(losers)\n",
    "\n",
    "        i: int = 0\n",
    "        j: int = 0\n",
    "        winners1_len: int = len(winners)\n",
    "        winners2_len: int = len(winners2)\n",
    "\n",
    "        winners_res: list[int] = []\n",
    "\n",
    "        while i < winners1_len and j < winners2_len:\n",
    "            if winners[i] < winners2[j]:\n",
    "                winners_res.append(winners[i])\n",
    "                i += 1\n",
    "            else:\n",
    "                winners_res.append(winners2[j])\n",
    "                j += 1\n",
    "\n",
    "        while i < winners1_len:\n",
    "            winners_res.append(winners[i])\n",
    "            i += 1\n",
    "\n",
    "        while j < winners2_len:\n",
    "            winners_res.append(winners2[j])\n",
    "            j += 1\n",
    "\n",
    "        return winners_res"
   ]
  },
  {
   "cell_type": "code",
   "execution_count": 9,
   "id": "f55bc0e0",
   "metadata": {},
   "outputs": [],
   "source": [
    "class PriorityHeap:\n",
    "    def __init__(self) -> None:\n",
    "        self.cache: list[int] = []\n",
    "        self.size: int = 0\n",
    "        self.max_size = 32\n",
    "\n",
    "    def pop_max(self) -> Any:\n",
    "        res = self.cache[0]\n",
    "        self.size -= 1\n",
    "        self.cache[0] = self.cache[self.size]\n",
    "        self.cache.pop(self.size)\n",
    "        self.iter_heapify(0)\n",
    "        return res\n",
    "\n",
    "    def max_heap_insert(self, key: int):\n",
    "        self.cache.append(-10000000000000)\n",
    "        self.insert_key(key, self.size)\n",
    "        self.size += 1\n",
    "\n",
    "\n",
    "    def insert_key(self, value: int, i: int):\n",
    "        self.cache[i] = value\n",
    "        parent = self.parent(i)\n",
    "        while i > 0 and self.cache[parent] > self.cache[i]:\n",
    "            self.cache[parent], self.cache[i] = self.cache[i], self.cache[parent]\n",
    "            i = parent\n",
    "            parent = self.parent(i)\n",
    "\n",
    "    def parent(self, i: int) -> int:\n",
    "        res = (i >> 1) - 1\n",
    "        if res < 0:\n",
    "            return 0\n",
    "        else:\n",
    "            return res\n",
    "\n",
    "    def iter_heapify(self, i: int) -> None:\n",
    "        while True:\n",
    "            l: int = (i << 1) + 1\n",
    "            r: int = (i << 1) + 2\n",
    "            largest: int = i\n",
    "\n",
    "            if l < self.size and self.cache[l] < self.cache[largest]:\n",
    "                largest = l\n",
    "\n",
    "            if r < self.size and self.cache[r] < self.cache[largest]:\n",
    "                largest = r\n",
    "\n",
    "            if largest == i:\n",
    "                break\n",
    "            else:\n",
    "                self.cache[i], self.cache[largest] = self.cache[largest], self.cache[i]\n",
    "                i = largest"
   ]
  },
  {
   "cell_type": "code",
   "execution_count": 10,
   "id": "4b4aad77",
   "metadata": {},
   "outputs": [
    {
     "name": "stdout",
     "output_type": "stream",
     "text": [
      "749 ns ± 8.54 ns per loop (mean ± std. dev. of 7 runs, 1000000 loops each)\n"
     ]
    }
   ],
   "source": [
    "%%timeit\n",
    "def quick_sort(a: list[int], p: int=0, r: Union[int, None]=None):\n",
    "    if r == None:\n",
    "        r = len(a) - 1\n",
    "\n",
    "    if p < r:\n",
    "        q = partition(a, p, r)\n",
    "        quick_sort(a, p, q-1)\n",
    "        quick_sort(a, q+1, r)\n",
    "\n",
    "    return a"
   ]
  },
  {
   "cell_type": "code",
   "execution_count": 11,
   "id": "eeadc40a",
   "metadata": {},
   "outputs": [],
   "source": [
    "def partition(a: list[int], p: int, r: int) -> int:\n",
    "    pivot: int = a[r]\n",
    "    i = p\n",
    "\n",
    "    for j in range(p, r):\n",
    "        if a[j] <= pivot:\n",
    "            a[i], a[j] = a[j], a[i]\n",
    "            i += 1\n",
    "\n",
    "    a[i], a[r] = a[r], a[i]\n",
    "\n",
    "    return i"
   ]
  },
  {
   "cell_type": "code",
   "execution_count": 12,
   "id": "a9adea73",
   "metadata": {},
   "outputs": [
    {
     "name": "stdout",
     "output_type": "stream",
     "text": [
      "517 ns ± 34.4 ns per loop (mean ± std. dev. of 7 runs, 1000000 loops each)\n"
     ]
    }
   ],
   "source": [
    "%%timeit\n",
    "def heap_sort(a: list[int]) -> list[int]:\n",
    "    n = len(a)\n",
    "\n",
    "    for i in range((n >> 1) - 1, -1, -1):\n",
    "        iter_heapify(a, i, n)\n",
    "\n",
    "    for heap_size in range(n-1, 0, -1):\n",
    "        a[0], a[heap_size] = a[heap_size], a[0]\n",
    "        iter_heapify(a, 0, heap_size)\n",
    "\n",
    "    return a"
   ]
  },
  {
   "cell_type": "code",
   "execution_count": 13,
   "id": "1fc59f6d",
   "metadata": {},
   "outputs": [],
   "source": [
    "def iter_heapify(a: list[int], i: int, length: int) -> None:\n",
    "    while True:\n",
    "        l: int = (i << 1) + 1\n",
    "        r: int = (i << 1) + 2\n",
    "        largest: int = i\n",
    "\n",
    "        if l < length and a[l] > a[largest]:\n",
    "            largest = l\n",
    "\n",
    "        if r < length and a[r] > a[largest]:\n",
    "            largest = r\n",
    "\n",
    "        if largest == i:\n",
    "            break\n",
    "        else:\n",
    "            a[i], a[largest] = a[largest], a[i]\n",
    "            i = largest"
   ]
  },
  {
   "cell_type": "code",
   "execution_count": 14,
   "id": "621d8515",
   "metadata": {},
   "outputs": [
    {
     "name": "stdout",
     "output_type": "stream",
     "text": [
      "522 ns ± 16.3 ns per loop (mean ± std. dev. of 7 runs, 1000000 loops each)\n"
     ]
    }
   ],
   "source": [
    "%%timeit\n",
    "def python_sort(a: list[int]) -> list[int]:\n",
    "    a.sort()\n",
    "    return a"
   ]
  },
  {
   "cell_type": "code",
   "execution_count": 15,
   "id": "dc5e3979",
   "metadata": {
    "lines_to_next_cell": 1
   },
   "outputs": [],
   "source": [
    "def main() -> None:\n",
    "    sorts_list: list[Callable] = list([\n",
    "        selection_sort,\n",
    "        insertion_sort,\n",
    "        stooge_sort,\n",
    "        shell_sort,\n",
    "        tournament_sort,\n",
    "        quick_sort,\n",
    "        heap_sort\n",
    "    ])\n",
    "\n",
    "    for sort_func in sorts_list:\n",
    "        print(f\"Testing sort: {sort_func.__name__}\")\n",
    "        for row in matrix_generator():\n",
    "            a: list[int] = list(x for x in row)\n",
    "            a_copy: list[int] = a.copy()\n",
    "\n",
    "            undertest = sort_func(a_copy)\n",
    "            expected = python_sort(a)\n",
    "\n",
    "            assert expected == undertest, f\"Sort {sort_func.__name__} is wrong\"\n",
    "\n",
    "        print(\"Good!\")"
   ]
  },
  {
   "cell_type": "code",
   "execution_count": 16,
   "id": "e71b63d8",
   "metadata": {},
   "outputs": [
    {
     "ename": "NameError",
     "evalue": "name 'selection_sort' is not defined",
     "output_type": "error",
     "traceback": [
      "\u001b[0;31m---------------------------------------------------------------------------\u001b[0m",
      "\u001b[0;31mNameError\u001b[0m                                 Traceback (most recent call last)",
      "\u001b[0;32m/var/folders/nq/hmygg_vn0zz0m33cs6zc8jnh0000gn/T/ipykernel_28323/3832242952.py\u001b[0m in \u001b[0;36m<module>\u001b[0;34m\u001b[0m\n\u001b[1;32m      1\u001b[0m \u001b[0;32mif\u001b[0m \u001b[0m__name__\u001b[0m \u001b[0;34m==\u001b[0m \u001b[0;34m\"__main__\"\u001b[0m\u001b[0;34m:\u001b[0m\u001b[0;34m\u001b[0m\u001b[0;34m\u001b[0m\u001b[0m\n\u001b[0;32m----> 2\u001b[0;31m     \u001b[0mmain\u001b[0m\u001b[0;34m(\u001b[0m\u001b[0;34m)\u001b[0m\u001b[0;34m\u001b[0m\u001b[0;34m\u001b[0m\u001b[0m\n\u001b[0m",
      "\u001b[0;32m/var/folders/nq/hmygg_vn0zz0m33cs6zc8jnh0000gn/T/ipykernel_28323/3217923248.py\u001b[0m in \u001b[0;36mmain\u001b[0;34m()\u001b[0m\n\u001b[1;32m      1\u001b[0m \u001b[0;32mdef\u001b[0m \u001b[0mmain\u001b[0m\u001b[0;34m(\u001b[0m\u001b[0;34m)\u001b[0m \u001b[0;34m->\u001b[0m \u001b[0;32mNone\u001b[0m\u001b[0;34m:\u001b[0m\u001b[0;34m\u001b[0m\u001b[0;34m\u001b[0m\u001b[0m\n\u001b[1;32m      2\u001b[0m     sorts_list: list[Callable] = list([\n\u001b[0;32m----> 3\u001b[0;31m         \u001b[0mselection_sort\u001b[0m\u001b[0;34m,\u001b[0m\u001b[0;34m\u001b[0m\u001b[0;34m\u001b[0m\u001b[0m\n\u001b[0m\u001b[1;32m      4\u001b[0m         \u001b[0minsertion_sort\u001b[0m\u001b[0;34m,\u001b[0m\u001b[0;34m\u001b[0m\u001b[0;34m\u001b[0m\u001b[0m\n\u001b[1;32m      5\u001b[0m         \u001b[0mstooge_sort\u001b[0m\u001b[0;34m,\u001b[0m\u001b[0;34m\u001b[0m\u001b[0;34m\u001b[0m\u001b[0m\n",
      "\u001b[0;31mNameError\u001b[0m: name 'selection_sort' is not defined"
     ]
    }
   ],
   "source": [
    "if __name__ == \"__main__\":\n",
    "    main()"
   ]
  },
  {
   "cell_type": "markdown",
   "id": "454558d4",
   "metadata": {},
   "source": [
    "## Среднее время выполнения\n",
    "\n",
    "\n",
    "| Сортировка | Время |\n",
    "-------- | ----- |\n",
    "Стандартная функция | 324 ns ± 13.9 ns per loop (mean ± std. dev. of 7 runs, 1000000 loops each)|\n",
    "Выбором | 535 ns ± 16.8 ns per loop (mean ± std. dev. of 7 runs, 1000000 loops each) |\n",
    "Вставкой | 507 ns ± 16.5 ns per loop (mean ± std. dev. of 7 runs, 1000000 loops each) |\n",
    "Обменом | 1.01 µs ± 23.4 ns per loop (mean ± std. dev. of 7 runs, 1000000 loops each) |\n",
    "Шелла | 512 ns ± 19.2 ns per loop (mean ± std. dev. of 7 runs, 1000000 loops each) |\n",
    "Турнирная | 536 ns ± 14.1 ns per loop (mean ± std. dev. of 7 runs, 1000000 loops each) |\n",
    "Быстрая | 425 ns ± 15.9 ns per loop (mean ± std. dev. of 7 runs, 1000000 loops each) |\n",
    "Пирамидальная | 518 ns ± 33.9 ns per loop (mean ± std. dev. of 7 runs, 1000000 loops each) |\n",
    "\n",
    "\n",
    "Результаты получены при сортировке списка длиной 50 элементов в диапазоне [-250:1019]\n",
    "\n",
    "Время работы получилось завышенным по причине того, что magic функция **timeit** не способна корректно замерять время у кода,\n",
    "в котором используются type hintings"
   ]
  },
  {
   "cell_type": "code",
   "execution_count": null,
   "id": "5facdfe8",
   "metadata": {},
   "outputs": [],
   "source": []
  }
 ],
 "metadata": {
  "jupytext": {
   "cell_metadata_filter": "-all",
   "encoding": "# -*- coding: utf-8 -*-",
   "main_language": "python",
   "notebook_metadata_filter": "-all"
  },
  "kernelspec": {
   "display_name": "Python 3 (ipykernel)",
   "language": "python",
   "name": "python3"
  },
  "language_info": {
   "codemirror_mode": {
    "name": "ipython",
    "version": 3
   },
   "file_extension": ".py",
   "mimetype": "text/x-python",
   "name": "python",
   "nbconvert_exporter": "python",
   "pygments_lexer": "ipython3",
   "version": "3.9.10"
  }
 },
 "nbformat": 4,
 "nbformat_minor": 5
}
